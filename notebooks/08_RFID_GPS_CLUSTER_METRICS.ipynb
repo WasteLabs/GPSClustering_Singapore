{
 "cells": [
  {
   "cell_type": "markdown",
   "metadata": {},
   "source": [
    "# About\n",
    "\n",
    "Now, we will try to perform performance estimate with different time shifts adjustments"
   ]
  },
  {
   "cell_type": "code",
   "execution_count": 1,
   "metadata": {},
   "outputs": [],
   "source": [
    "import os\n",
    "from utils.idGenerators import generate_point_id, generate_trip_id\n",
    "import numpy as np\n",
    "import pandas as pd\n",
    "import logging\n",
    "from shapely.geometry import Point\n",
    "import plotly.express as px\n",
    "import geopandas as gpd\n",
    "import plotly.express as px\n",
    "from multiprocessing import Pool\n",
    "from scipy.stats import zscore\n",
    "from GPSOdyssey import Polaris, Kepler, Void, Vega\n",
    "from IPython.core.interactiveshell import InteractiveShell\n",
    "InteractiveShell.ast_node_interactivity = 'all'"
   ]
  },
  {
   "cell_type": "markdown",
   "metadata": {},
   "source": [
    "# 1. Data\n",
    "\n",
    "* Good RFID candidates\n",
    "* RFID merge\n"
   ]
  },
  {
   "cell_type": "markdown",
   "metadata": {},
   "source": [
    "### 1.1. GPS records"
   ]
  },
  {
   "cell_type": "code",
   "execution_count": 2,
   "metadata": {},
   "outputs": [
    {
     "name": "stdout",
     "output_type": "stream",
     "text": [
      "CPU times: user 953 ms, sys: 208 ms, total: 1.16 s\n",
      "Wall time: 1.27 s\n"
     ]
    }
   ],
   "source": [
    "%%time\n",
    "S_CLUSTERED_GPS = '/Data/Outputs/GPS_Clusters/'\n",
    "\n",
    "\n",
    "vega = Vega(engine='pandas')\n",
    "gps = vega.read_from_dir(directory=S_CLUSTERED_GPS,\n",
    "                             file_extensions='.csv',\n",
    "                             args={'parse_dates': ['time']},\n",
    "                             concatenate=True, amt_in_parallel=6)"
   ]
  },
  {
   "cell_type": "markdown",
   "metadata": {},
   "source": [
    "#### 1.1.1 Time shift experiments"
   ]
  },
  {
   "cell_type": "code",
   "execution_count": 3,
   "metadata": {},
   "outputs": [],
   "source": [
    "def preprocess_gps(gps, time_shift='-02:00'):\n",
    "    gps = Polaris(gps) \\\n",
    "        .select_columns(['truck_id', 'lon', 'lat', 'time', 'lon_match', 'lat_match', 'cluster_id']) \\\n",
    "        .pandas_df_operation(func_name='rename', arguments={'columns': {'truck_id': 'vehicle_id', 'time': 'datetime'}}) \\\n",
    "        .construct_datetime(datetime='datetime', offset=time_shift) \\\n",
    "        .remove_tz(time_col='datetime') \\\n",
    "        .add_date_col('datetime', 'date') \\\n",
    "        .add_time_col('datetime', 'time') \\\n",
    "        .add_unixtime('datetime', 'unixtime') \\\n",
    "        .df\n",
    "\n",
    "    gps = generate_trip_id(gps)\n",
    "    gps = generate_point_id(gps)\n",
    "    gps['unixtime'] = gps['unixtime'].astype('int')\n",
    "    return gps\n",
    "\n",
    "\n",
    "is_after_2020_10_24 = gps['time'].dt.date.astype('str') > '2020-10-24'\n",
    "gps_2h = gps[~is_after_2020_10_24]\n",
    "gps_1h = gps[is_after_2020_10_24]\n",
    "\n",
    "\n",
    "gps = pd.concat([\n",
    "    preprocess_gps(gps_1h, time_shift='-01:00'),\n",
    "    preprocess_gps(gps_2h, time_shift='-02:00')\n",
    "]).reset_index(drop=True)"
   ]
  },
  {
   "cell_type": "markdown",
   "metadata": {},
   "source": [
    "### 1.2. RFID"
   ]
  },
  {
   "cell_type": "code",
   "execution_count": 4,
   "metadata": {},
   "outputs": [
    {
     "data": {
      "text/html": [
       "<div>\n",
       "<style scoped>\n",
       "    .dataframe tbody tr th:only-of-type {\n",
       "        vertical-align: middle;\n",
       "    }\n",
       "\n",
       "    .dataframe tbody tr th {\n",
       "        vertical-align: top;\n",
       "    }\n",
       "\n",
       "    .dataframe thead th {\n",
       "        text-align: right;\n",
       "    }\n",
       "</style>\n",
       "<table border=\"1\" class=\"dataframe\">\n",
       "  <thead>\n",
       "    <tr style=\"text-align: right;\">\n",
       "      <th></th>\n",
       "      <th>date</th>\n",
       "      <th>time</th>\n",
       "      <th>unixtime</th>\n",
       "      <th>vehicle_id</th>\n",
       "      <th>rfid</th>\n",
       "      <th>is_rfid_active</th>\n",
       "      <th>latitude</th>\n",
       "      <th>longitude</th>\n",
       "      <th>datetime</th>\n",
       "      <th>trip_id</th>\n",
       "      <th>point_id</th>\n",
       "    </tr>\n",
       "  </thead>\n",
       "  <tbody>\n",
       "    <tr>\n",
       "      <th>0</th>\n",
       "      <td>2020-10-01</td>\n",
       "      <td>06:50:46</td>\n",
       "      <td>1.601535e+09</td>\n",
       "      <td>XE-5629T</td>\n",
       "      <td>E28011057000020F9BDEA06B</td>\n",
       "      <td>True</td>\n",
       "      <td>1.343322</td>\n",
       "      <td>103.738312</td>\n",
       "      <td>2020-10-01 06:50:46</td>\n",
       "      <td>2020-10-01 XE-5629T</td>\n",
       "      <td>2020-10-01 06:50:46 XE-5629T</td>\n",
       "    </tr>\n",
       "    <tr>\n",
       "      <th>1</th>\n",
       "      <td>2020-10-01</td>\n",
       "      <td>07:10:25</td>\n",
       "      <td>1.601536e+09</td>\n",
       "      <td>XE-5629T</td>\n",
       "      <td>E200001C2611006620802535</td>\n",
       "      <td>True</td>\n",
       "      <td>1.348958</td>\n",
       "      <td>103.751651</td>\n",
       "      <td>2020-10-01 07:10:25</td>\n",
       "      <td>2020-10-01 XE-5629T</td>\n",
       "      <td>2020-10-01 07:10:25 XE-5629T</td>\n",
       "    </tr>\n",
       "    <tr>\n",
       "      <th>2</th>\n",
       "      <td>2020-10-01</td>\n",
       "      <td>07:26:38</td>\n",
       "      <td>1.601537e+09</td>\n",
       "      <td>XE-5629T</td>\n",
       "      <td>E28011057000020F9BDDFB4C</td>\n",
       "      <td>True</td>\n",
       "      <td>1.351008</td>\n",
       "      <td>103.747145</td>\n",
       "      <td>2020-10-01 07:26:38</td>\n",
       "      <td>2020-10-01 XE-5629T</td>\n",
       "      <td>2020-10-01 07:26:38 XE-5629T</td>\n",
       "    </tr>\n",
       "    <tr>\n",
       "      <th>3</th>\n",
       "      <td>2020-10-01</td>\n",
       "      <td>07:42:50</td>\n",
       "      <td>1.601538e+09</td>\n",
       "      <td>XE-5629T</td>\n",
       "      <td>E28011057000020F9BDDBD3C</td>\n",
       "      <td>True</td>\n",
       "      <td>1.357562</td>\n",
       "      <td>103.748499</td>\n",
       "      <td>2020-10-01 07:42:50</td>\n",
       "      <td>2020-10-01 XE-5629T</td>\n",
       "      <td>2020-10-01 07:42:50 XE-5629T</td>\n",
       "    </tr>\n",
       "    <tr>\n",
       "      <th>4</th>\n",
       "      <td>2020-10-01</td>\n",
       "      <td>07:55:22</td>\n",
       "      <td>1.601539e+09</td>\n",
       "      <td>XE-5629T</td>\n",
       "      <td>E28011057000020F9BDD9341</td>\n",
       "      <td>True</td>\n",
       "      <td>1.357328</td>\n",
       "      <td>103.751373</td>\n",
       "      <td>2020-10-01 07:55:22</td>\n",
       "      <td>2020-10-01 XE-5629T</td>\n",
       "      <td>2020-10-01 07:55:22 XE-5629T</td>\n",
       "    </tr>\n",
       "  </tbody>\n",
       "</table>\n",
       "</div>"
      ],
      "text/plain": [
       "         date      time      unixtime vehicle_id                      rfid  \\\n",
       "0  2020-10-01  06:50:46  1.601535e+09   XE-5629T  E28011057000020F9BDEA06B   \n",
       "1  2020-10-01  07:10:25  1.601536e+09   XE-5629T  E200001C2611006620802535   \n",
       "2  2020-10-01  07:26:38  1.601537e+09   XE-5629T  E28011057000020F9BDDFB4C   \n",
       "3  2020-10-01  07:42:50  1.601538e+09   XE-5629T  E28011057000020F9BDDBD3C   \n",
       "4  2020-10-01  07:55:22  1.601539e+09   XE-5629T  E28011057000020F9BDD9341   \n",
       "\n",
       "   is_rfid_active  latitude   longitude             datetime  \\\n",
       "0            True  1.343322  103.738312  2020-10-01 06:50:46   \n",
       "1            True  1.348958  103.751651  2020-10-01 07:10:25   \n",
       "2            True  1.351008  103.747145  2020-10-01 07:26:38   \n",
       "3            True  1.357562  103.748499  2020-10-01 07:42:50   \n",
       "4            True  1.357328  103.751373  2020-10-01 07:55:22   \n",
       "\n",
       "               trip_id                      point_id  \n",
       "0  2020-10-01 XE-5629T  2020-10-01 06:50:46 XE-5629T  \n",
       "1  2020-10-01 XE-5629T  2020-10-01 07:10:25 XE-5629T  \n",
       "2  2020-10-01 XE-5629T  2020-10-01 07:26:38 XE-5629T  \n",
       "3  2020-10-01 XE-5629T  2020-10-01 07:42:50 XE-5629T  \n",
       "4  2020-10-01 XE-5629T  2020-10-01 07:55:22 XE-5629T  "
      ]
     },
     "execution_count": 4,
     "metadata": {},
     "output_type": "execute_result"
    }
   ],
   "source": [
    "S_RFID_OCTOBER = '/Data/Source/RFID/RFID_october.csv'\n",
    "\n",
    "\n",
    "rfid = pd.read_csv(S_RFID_OCTOBER)\n",
    "rfid['is_rfid_active'] = True\n",
    "\n",
    "RFID_COLUMNS = ['date', 'time', 'unixtime', 'vehicle_id',\n",
    "                'RFID', 'is_rfid_active', 'Latitude', 'Longitude']\n",
    "rfid = rfid.loc[:, RFID_COLUMNS]\n",
    "rfid.columns = [str(x).lower() for x in rfid.columns]\n",
    "\n",
    "rfid = rfid.sort_values(by='unixtime')\n",
    "rfid['datetime'] = rfid['date'] + ' ' + rfid['time']\n",
    "\n",
    "\n",
    "rfid = generate_trip_id(rfid)\n",
    "rfid = generate_point_id(rfid)\n",
    "\n",
    "# Select only suitalbe gps\n",
    "JS_SE_TRIPS = gps[~gps['trip_id'].duplicated(keep='last')][['trip_id']]\n",
    "rfid = rfid.merge(JS_SE_TRIPS, how='inner', on=['trip_id'])\n",
    "rfid.head()\n",
    "\n",
    "# REMOVE INCORRECT LOCATION RFID RECORD\n",
    "rfid = rfid[rfid['point_id'] != '2020-10-02 16:38:12 XE-5629T']"
   ]
  },
  {
   "cell_type": "markdown",
   "metadata": {},
   "source": [
    "### 1.3. RFID & GPS assignment output"
   ]
  },
  {
   "cell_type": "code",
   "execution_count": 5,
   "metadata": {},
   "outputs": [],
   "source": [
    "I_GPS_RFID_ASSIGNMENT = '/Data/Intermediate/assignments/rfid_gps_clusters_assignments.csv'"
   ]
  },
  {
   "cell_type": "markdown",
   "metadata": {},
   "source": [
    "# 2. Merge: RFID & clustered GPS"
   ]
  },
  {
   "cell_type": "code",
   "execution_count": 6,
   "metadata": {},
   "outputs": [],
   "source": [
    "rfid['datetime'] = rfid['datetime'].astype('str')\n",
    "gps['datetime'] = gps['datetime'].astype('str')"
   ]
  },
  {
   "cell_type": "markdown",
   "metadata": {},
   "source": [
    "#### 2.1. Merge with ffill of GPS"
   ]
  },
  {
   "cell_type": "code",
   "execution_count": 7,
   "metadata": {},
   "outputs": [],
   "source": [
    "# 1. Full outer join\n",
    "merge_columns = ['vehicle_id', 'datetime']\n",
    "gps_m = gps.merge(rfid, on=merge_columns, how='outer', suffixes=['_gps', '_rfid'])\n",
    "\n",
    "# 2. Sort values\n",
    "gps_m.sort_values(merge_columns, inplace=True)\n",
    "\n",
    "# 3. Fillna\n",
    "gps_columns = list(list(gps_m.loc[:,:'point_id_gps'].columns))\n",
    "gps_m[gps_columns] = gps_m[gps_columns].fillna(method='ffill')"
   ]
  },
  {
   "cell_type": "markdown",
   "metadata": {},
   "source": [
    "# 3. Metrics computing\n",
    "\n",
    "* how many and percentage RFID activations did not get captured in any cluster?\n",
    "* how many and percentage RFID activations get captured in clusters?"
   ]
  },
  {
   "cell_type": "code",
   "execution_count": 8,
   "metadata": {},
   "outputs": [],
   "source": [
    "rfid_activations = gps_m.loc[gps_m['is_rfid_active'] == True,\n",
    "                             ['vehicle_id', 'date_gps', 'time_gps', 'cluster_id', 'rfid', 'date_rfid', 'time_rfid']]\n",
    "\n",
    "rfid_activations.to_csv(I_GPS_RFID_ASSIGNMENT, index=False)"
   ]
  },
  {
   "cell_type": "code",
   "execution_count": 9,
   "metadata": {},
   "outputs": [
    {
     "data": {
      "text/html": [
       "<div>\n",
       "<style scoped>\n",
       "    .dataframe tbody tr th:only-of-type {\n",
       "        vertical-align: middle;\n",
       "    }\n",
       "\n",
       "    .dataframe tbody tr th {\n",
       "        vertical-align: top;\n",
       "    }\n",
       "\n",
       "    .dataframe thead th {\n",
       "        text-align: right;\n",
       "    }\n",
       "</style>\n",
       "<table border=\"1\" class=\"dataframe\">\n",
       "  <thead>\n",
       "    <tr style=\"text-align: right;\">\n",
       "      <th></th>\n",
       "      <th>RFID_AMT_captured_in_cluster</th>\n",
       "      <th>RFID_AMT_not_captured_in_cluster</th>\n",
       "      <th>RFID_AMT_total</th>\n",
       "      <th>RFID_PERC_captured_in_cluster</th>\n",
       "      <th>RFID_PERC_not_captured_in_cluster</th>\n",
       "    </tr>\n",
       "  </thead>\n",
       "  <tbody>\n",
       "    <tr>\n",
       "      <th>0</th>\n",
       "      <td>2164</td>\n",
       "      <td>9</td>\n",
       "      <td>2173</td>\n",
       "      <td>0.995858</td>\n",
       "      <td>0.004142</td>\n",
       "    </tr>\n",
       "  </tbody>\n",
       "</table>\n",
       "</div>"
      ],
      "text/plain": [
       "   RFID_AMT_captured_in_cluster  RFID_AMT_not_captured_in_cluster  \\\n",
       "0                          2164                                 9   \n",
       "\n",
       "   RFID_AMT_total  RFID_PERC_captured_in_cluster  \\\n",
       "0            2173                       0.995858   \n",
       "\n",
       "   RFID_PERC_not_captured_in_cluster  \n",
       "0                           0.004142  "
      ]
     },
     "execution_count": 9,
     "metadata": {},
     "output_type": "execute_result"
    }
   ],
   "source": [
    "pd.DataFrame({\n",
    "    'RFID_AMT_captured_in_cluster': [(rfid_activations['cluster_id'] != -1).sum()],\n",
    "    'RFID_AMT_not_captured_in_cluster': (rfid_activations['cluster_id'] == -1).sum(),\n",
    "    'RFID_AMT_total': rfid_activations.shape[0],\n",
    "    'RFID_PERC_captured_in_cluster': (rfid_activations['cluster_id'] != -1).sum() / rfid_activations.shape[0],\n",
    "    'RFID_PERC_not_captured_in_cluster': (rfid_activations['cluster_id'] == -1).sum() / rfid_activations.shape[0],\n",
    "})"
   ]
  },
  {
   "cell_type": "markdown",
   "metadata": {},
   "source": [
    "# 4. RFID activations visualization"
   ]
  },
  {
   "cell_type": "code",
   "execution_count": 10,
   "metadata": {},
   "outputs": [
    {
     "name": "stdout",
     "output_type": "stream",
     "text": [
      "User Guide: https://docs.kepler.gl/docs/keplergl-jupyter\n"
     ]
    },
    {
     "data": {
      "application/vnd.jupyter.widget-view+json": {
       "model_id": "d95b4e49bd684219a4dd0adc452ac1e5",
       "version_major": 2,
       "version_minor": 0
      },
      "text/plain": [
       "KeplerGl(config={'version': 'v1', 'config': {'visState': {'filters': [{'dataId': ['gps'], 'id': 'amfe018bq', '…"
      ]
     },
     "metadata": {},
     "output_type": "display_data"
    }
   ],
   "source": [
    "MAP_CONFIG = 'MAP_CONFIGS/06_RFID_MERGE_ANALYSIS_JS_SE.json'\n",
    "\n",
    "kepler = Kepler({'gps': gps_m[gps_m['is_rfid_active'] == True].reset_index()},\n",
    "                config_path=MAP_CONFIG,\n",
    "                height=800)\n",
    "               \n",
    "kepler.render_kepler_map()\n",
    "kepler.get_rendered_map()"
   ]
  },
  {
   "cell_type": "code",
   "execution_count": 11,
   "metadata": {},
   "outputs": [],
   "source": [
    "# kepler.save_map_config(path=MAP_CONFIG, overwrite_config=True)"
   ]
  }
 ],
 "metadata": {
  "kernelspec": {
   "display_name": "Python 3",
   "language": "python",
   "name": "python3"
  },
  "language_info": {
   "codemirror_mode": {
    "name": "ipython",
    "version": 3
   },
   "file_extension": ".py",
   "mimetype": "text/x-python",
   "name": "python",
   "nbconvert_exporter": "python",
   "pygments_lexer": "ipython3",
   "version": "3.8.2"
  }
 },
 "nbformat": 4,
 "nbformat_minor": 4
}
