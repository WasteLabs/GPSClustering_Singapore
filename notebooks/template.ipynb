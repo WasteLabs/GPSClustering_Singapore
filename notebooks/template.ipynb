{
 "cells": [
  {
   "cell_type": "markdown",
   "id": "secondary-engagement",
   "metadata": {},
   "source": [
    "# About\n",
    "* Who is creator of notebook?\n",
    "* When notebook was created?\n",
    "* Why notebook was created?\n",
    "* What it should to produce?"
   ]
  },
  {
   "cell_type": "code",
   "execution_count": 10,
   "id": "material-freedom",
   "metadata": {
    "code_folding": []
   },
   "outputs": [
    {
     "name": "stdout",
     "output_type": "stream",
     "text": [
      "The autoreload extension is already loaded. To reload it, use:\n",
      "  %reload_ext autoreload\n"
     ]
    }
   ],
   "source": [
    "# Imports\n",
    "import os\n",
    "import logging\n",
    "import numpy as np\n",
    "import pandas as pd\n",
    "import sklearn as sc\n",
    "from multiprocessing import Pool\n",
    "import scipy\n",
    "import plotly.express as px\n",
    "import geopandas as gpd\n",
    "import shapely\n",
    "import fiona\n",
    "\n",
    "from IPython.core.interactiveshell import InteractiveShell\n",
    "InteractiveShell.ast_node_interactivity = 'all'\n",
    "\n",
    "%load_ext autoreload\n",
    "%autoreload 2"
   ]
  },
  {
   "cell_type": "markdown",
   "id": "frozen-deployment",
   "metadata": {},
   "source": [
    "# Data\n",
    "\n",
    "Data naming convention: \\<SOURCE_TYPE\\>_\\<DESCRIPTIVE_NAME\\>\n",
    "\n",
    "SOURCE_TYPE:\n",
    "* S : Data are stored in `/data/sources/`\n",
    "* I : Data are stored in `/data/intermediate/`\n",
    "* O : Data are stored in `/data/outputs/`\n",
    "\n",
    "Example:\n",
    "* `I_DEPARTMENTS_EMPLOYEES_JOIN`\n",
    "* `S_MONTHLY_INCOMES`\n",
    "* `O_KPI_METRICS`"
   ]
  },
  {
   "cell_type": "markdown",
   "id": "simple-struggle",
   "metadata": {},
   "source": [
    "# Summary\n",
    "\n",
    "* What insights are met?\n",
    "* What was good/bad/weird?\n",
    "* Recommendations?\n",
    "* Why particular things did happen?"
   ]
  }
 ],
 "metadata": {
  "kernelspec": {
   "display_name": "Python 3",
   "language": "python",
   "name": "python3"
  },
  "language_info": {
   "codemirror_mode": {
    "name": "ipython",
    "version": 3
   },
   "file_extension": ".py",
   "mimetype": "text/x-python",
   "name": "python",
   "nbconvert_exporter": "python",
   "pygments_lexer": "ipython3",
   "version": "3.8.5"
  },
  "varInspector": {
   "cols": {
    "lenName": 16,
    "lenType": 16,
    "lenVar": 40
   },
   "kernels_config": {
    "python": {
     "delete_cmd_postfix": "",
     "delete_cmd_prefix": "del ",
     "library": "var_list.py",
     "varRefreshCmd": "print(var_dic_list())"
    },
    "r": {
     "delete_cmd_postfix": ") ",
     "delete_cmd_prefix": "rm(",
     "library": "var_list.r",
     "varRefreshCmd": "cat(var_dic_list()) "
    }
   },
   "types_to_exclude": [
    "module",
    "function",
    "builtin_function_or_method",
    "instance",
    "_Feature"
   ],
   "window_display": false
  }
 },
 "nbformat": 4,
 "nbformat_minor": 5
}
