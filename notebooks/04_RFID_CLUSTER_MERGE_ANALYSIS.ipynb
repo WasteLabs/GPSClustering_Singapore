{
 "cells": [
  {
   "cell_type": "code",
   "execution_count": 1,
   "metadata": {},
   "outputs": [],
   "source": [
    "import os\n",
    "import numpy as np\n",
    "import pandas as pd\n",
    "import logging\n",
    "from shapely.geometry import Point\n",
    "import plotly.express as px\n",
    "import geopandas as gpd\n",
    "import plotly.express as px\n",
    "from multiprocessing import Pool\n",
    "from scipy.stats import zscore\n",
    "from GPSOdyssey import Polaris, Kepler, Void, Vega\n",
    "from IPython.core.interactiveshell import InteractiveShell\n",
    "InteractiveShell.ast_node_interactivity = 'all'"
   ]
  },
  {
   "cell_type": "markdown",
   "metadata": {},
   "source": [
    "# Data\n",
    "\n",
    "* Good RFID candidates\n",
    "* RFID merge\n",
    "\n",
    "### Time shift summary\n",
    "\n",
    "* **RFID**: +08:00 (By default) | I read with +00:00 time shift\n",
    "* **GPS**: +06:00 ()"
   ]
  },
  {
   "cell_type": "code",
   "execution_count": 10,
   "metadata": {},
   "outputs": [],
   "source": [
    "def generate_trip_id(gps):\n",
    "    gps['trip_id'] = gps['date'].astype('str') + ' ' + gps['vehicle_id']\n",
    "    return gps\n",
    "\n",
    "def generate_point_id(gps):\n",
    "    gps['point_id'] = gps['datetime'].astype('str') + ' ' + gps['vehicle_id']\n",
    "    return gps"
   ]
  },
  {
   "cell_type": "markdown",
   "metadata": {},
   "source": [
    "### GPS records"
   ]
  },
  {
   "cell_type": "code",
   "execution_count": 11,
   "metadata": {},
   "outputs": [],
   "source": [
    "S_CLUSTERED_GPS = '/Data/Outputs/GPS_Clusters/'\n",
    "\n",
    "\n",
    "vega = Vega(engine='pandas')\n",
    "gps = vega.read_from_dir(directory=S_CLUSTERED_GPS,\n",
    "                             file_extensions='.csv',\n",
    "                             args={'parse_dates': ['time']},\n",
    "                             concatenate=True, amt_in_parallel=6)\n",
    "    \n",
    "\n",
    "gps = Polaris(gps) \\\n",
    "    .select_columns(['truck_id', 'lon', 'lat', 'time', 'lon_match', 'lat_match', 'cluster_id']) \\\n",
    "    .pandas_df_operation(func_name='rename', arguments={'columns': {'truck_id': 'vehicle_id', 'time': 'datetime'}}) \\\n",
    "    .construct_datetime(datetime='datetime', offset='-02:00') \\\n",
    "    .remove_tz(time_col='datetime') \\\n",
    "    .add_date_col('datetime', 'date') \\\n",
    "    .add_time_col('datetime', 'time') \\\n",
    "    .add_unixtime('datetime', 'unixtime') \\\n",
    "    .df\n",
    "\n",
    "gps = generate_trip_id(gps)\n",
    "gps = generate_point_id(gps)\n",
    "gps['unixtime'] = gps['unixtime'].astype('int')"
   ]
  },
  {
   "cell_type": "markdown",
   "metadata": {},
   "source": [
    "### RFID merge"
   ]
  },
  {
   "cell_type": "code",
   "execution_count": 12,
   "metadata": {},
   "outputs": [],
   "source": [
    "S_RFID_OCTOBER = '/Data/Source/RFID/RFID_october.csv'\n",
    "\n",
    "\n",
    "rfid = pd.read_csv(S_RFID_OCTOBER)\n",
    "rfid['is_rfid_active'] = True\n",
    "\n",
    "RFID_COLUMNS = ['date', 'time', 'unixtime', 'vehicle_id',\n",
    "                'RFID', 'is_rfid_active', 'Latitude', 'Longitude']\n",
    "rfid = rfid.loc[:, RFID_COLUMNS]\n",
    "rfid.columns = [str(x).lower() for x in rfid.columns]\n",
    "\n",
    "rfid = rfid.sort_values(by='unixtime')\n",
    "rfid['datetime'] = rfid['date'] + ' ' + rfid['time']\n",
    "\n",
    "\n",
    "rfid = generate_trip_id(rfid)\n",
    "rfid = generate_point_id(rfid)\n",
    "\n",
    "# Select only suitalbe gps\n",
    "rfid = rfid.merge(gps[~gps['trip_id'].duplicated(keep='last')][['trip_id']], how='inner', on=['trip_id'])"
   ]
  },
  {
   "cell_type": "markdown",
   "metadata": {},
   "source": [
    "## Merge: RFID & GPS"
   ]
  },
  {
   "cell_type": "code",
   "execution_count": 13,
   "metadata": {},
   "outputs": [],
   "source": [
    "rfid['datetime'] = rfid['datetime'].astype('str')\n",
    "gps['datetime'] = gps['datetime'].astype('str')"
   ]
  },
  {
   "cell_type": "markdown",
   "metadata": {},
   "source": [
    "### core matching operation"
   ]
  },
  {
   "cell_type": "code",
   "execution_count": 14,
   "metadata": {},
   "outputs": [],
   "source": [
    "gps_m = gps.merge(rfid[['rfid', 'vehicle_id', 'datetime', 'unixtime',\n",
    "                        'is_rfid_active', 'latitude', 'longitude']],\n",
    "                  on=['vehicle_id', 'datetime'], how='outer')\n",
    "\n",
    "gps_m['is_overlap'] = gps_m['lat_match'].isna()\n",
    "gps_m.sort_values(['vehicle_id', 'datetime'], inplace=True)\n",
    "\n",
    "cols2fill = ['lon', 'lat', 'time', 'vehicle_id', 'date', 'datetime', 'time',\n",
    "             'unixtime_x', 'lon_match', 'lat_match', 'trip_id', 'point_id']\n",
    "gps_m[cols2fill] = gps_m[cols2fill].fillna(method='ffill')\n",
    "\n",
    "gps_m['is_rfid_active'] = ~gps_m['rfid'].isna()"
   ]
  },
  {
   "cell_type": "code",
   "execution_count": 15,
   "metadata": {},
   "outputs": [],
   "source": [
    "gps_m[['longitude', 'latitude']] = gps_m[['longitude', 'latitude']].astype('float')"
   ]
  },
  {
   "cell_type": "code",
   "execution_count": 16,
   "metadata": {},
   "outputs": [
    {
     "name": "stdout",
     "output_type": "stream",
     "text": [
      "User Guide: https://docs.kepler.gl/docs/keplergl-jupyter\n"
     ]
    },
    {
     "data": {
      "application/vnd.jupyter.widget-view+json": {
       "model_id": "3afce14677b1482ca779cadd2234f948",
       "version_major": 2,
       "version_minor": 0
      },
      "text/plain": [
       "KeplerGl(config={'version': 'v1', 'config': {'visState': {'filters': [{'dataId': ['gps'], 'id': '2tn8qm4hv', '…"
      ]
     },
     "metadata": {},
     "output_type": "display_data"
    }
   ],
   "source": [
    "MAP_CONFIG = 'keplerConf/gps_rfid_match_viz.json'\n",
    "\n",
    "kepler = Kepler({'gps': gps_m, 'rfid': rfid},\n",
    "                height=800, config_path=MAP_CONFIG)\n",
    "kepler.render_kepler_map()\n",
    "kepler.get_rendered_map()"
   ]
  }
 ],
 "metadata": {
  "kernelspec": {
   "display_name": "Python 3",
   "language": "python",
   "name": "python3"
  },
  "language_info": {
   "codemirror_mode": {
    "name": "ipython",
    "version": 3
   },
   "file_extension": ".py",
   "mimetype": "text/x-python",
   "name": "python",
   "nbconvert_exporter": "python",
   "pygments_lexer": "ipython3",
   "version": "3.8.2"
  }
 },
 "nbformat": 4,
 "nbformat_minor": 4
}
