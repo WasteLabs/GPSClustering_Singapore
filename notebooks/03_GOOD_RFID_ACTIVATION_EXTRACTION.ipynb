{
 "cells": [
  {
   "cell_type": "markdown",
   "metadata": {},
   "source": [
    "# 1. Introduction\n",
    "\n",
    "In this notebook i will try to find good candidates for Measuring accuracy.\n",
    "\n",
    "### Selection criterias:\n",
    "1. No points lying on highway\n",
    "2. All points are in resedential place\n",
    "3. Entire trip is covered\n",
    "4. Amount of trips no anomalic"
   ]
  },
  {
   "cell_type": "code",
   "execution_count": 1,
   "metadata": {},
   "outputs": [],
   "source": [
    "import os\n",
    "import numpy as np\n",
    "import pandas as pd\n",
    "import plotly.express as px\n",
    "import geopandas as gpd\n",
    "from scipy.stats import zscore\n",
    "from multiprocessing import Pool\n",
    "from IPython.core.interactiveshell import InteractiveShell\n",
    "InteractiveShell.ast_node_interactivity = 'all'\n",
    "from GPSOdyssey import Vega, Polaris"
   ]
  },
  {
   "cell_type": "markdown",
   "metadata": {},
   "source": [
    "# 2. Data\n",
    "\n",
    "* RFID: RFID activations\n",
    "* GPS: GPS records from Trucks"
   ]
  },
  {
   "cell_type": "markdown",
   "metadata": {},
   "source": [
    "### 1. RFID"
   ]
  },
  {
   "cell_type": "code",
   "execution_count": 2,
   "metadata": {},
   "outputs": [],
   "source": [
    "S_RFID_OCTOBER = '/Data/Source/RFID/RFID_october.csv'\n",
    "rfid = pd.read_csv(S_RFID_OCTOBER)"
   ]
  },
  {
   "cell_type": "markdown",
   "metadata": {},
   "source": [
    "### 2. Map matching"
   ]
  },
  {
   "cell_type": "code",
   "execution_count": 3,
   "metadata": {},
   "outputs": [],
   "source": [
    "I_MAP_MATCHING_REPORT = '/Data/Intermediate/MapMatchingReports/MapMatching_october2020.csv'\n",
    "map_matching_report = pd.read_csv(I_MAP_MATCHING_REPORT)"
   ]
  },
  {
   "cell_type": "markdown",
   "metadata": {},
   "source": [
    "### 3. GPS data"
   ]
  },
  {
   "cell_type": "code",
   "execution_count": 4,
   "metadata": {},
   "outputs": [],
   "source": [
    "S_GPS_DIR = '/Data/Source/OctoberGPS/'\n",
    "gps = Vega().read_from_dir(directory=S_GPS_DIR, file_extensions='.csv',\n",
    "                           concatenate=False, amt_in_parallel=6)"
   ]
  },
  {
   "cell_type": "markdown",
   "metadata": {},
   "source": [
    "### 4. Good RFID candidates"
   ]
  },
  {
   "cell_type": "code",
   "execution_count": 5,
   "metadata": {},
   "outputs": [],
   "source": [
    "S_GOOD_RFID_CANDIDATES = '/Data/Source/RFID/Good_RFID_candidates.csv'"
   ]
  },
  {
   "cell_type": "markdown",
   "metadata": {},
   "source": [
    "### 5. Map matching report"
   ]
  },
  {
   "cell_type": "code",
   "execution_count": 20,
   "metadata": {},
   "outputs": [],
   "source": [
    "I_GOOD_RFID_MAP_MATCH = '/Data/Intermediate/MapMatchingReports/GOOD_RFID_ACTIVATIONS.csv'"
   ]
  },
  {
   "cell_type": "markdown",
   "metadata": {},
   "source": [
    "# 3. Good RFID activations extraction"
   ]
  },
  {
   "cell_type": "code",
   "execution_count": 6,
   "metadata": {},
   "outputs": [],
   "source": [
    "GOOD_CANDIDATES = [\n",
    "    ('XE 5598Z', '2020-10-30'),\n",
    "    ('XE 5612R', '2020-10-30'),\n",
    "    ('XE 5620S', '2020-10-30'),\n",
    "    ('XE 5620S', '2020-10-30'),\n",
    "    ('XE 5628X', '2020-10-30'),\n",
    "    ('XE 5630M', '2020-10-30'),\n",
    "    ('XE 5705G', '2020-10-30'),\n",
    "    ('XE 5598Z', '2020-10-07'),\n",
    "    ('XE 5612R', '2020-10-07'),\n",
    "    ('XE 5629X', '2020-10-07'),\n",
    "    ('XE 5680T', '2020-10-07'),\n",
    "    ('XE 5598Z', '2020-10-22'),\n",
    "    ('XE 5612R', '2020-10-22'),\n",
    "    ('XE 5620S', '2020-10-22'),\n",
    "    ('XE 5630M', '2020-10-22'),\n",
    "]\n",
    "\n",
    "candidates = pd.DataFrame(GOOD_CANDIDATES, columns=['vehicle_id', 'date'])"
   ]
  },
  {
   "cell_type": "markdown",
   "metadata": {},
   "source": [
    "### 1. Extraction good gps points in map matching report"
   ]
  },
  {
   "cell_type": "code",
   "execution_count": 7,
   "metadata": {},
   "outputs": [],
   "source": [
    "map_matching_report = \\\n",
    "    map_matching_report.merge(candidates,\n",
    "                              left_on=['waste_collection_date', 'truck_id'],\n",
    "                              right_on=['date', 'vehicle_id'])"
   ]
  },
  {
   "cell_type": "code",
   "execution_count": 21,
   "metadata": {},
   "outputs": [],
   "source": [
    "map_matching_report.to_csv(I_GOOD_RFID_MAP_MATCH, index=False)"
   ]
  },
  {
   "cell_type": "markdown",
   "metadata": {},
   "source": [
    "### 2. RFID"
   ]
  },
  {
   "cell_type": "code",
   "execution_count": 8,
   "metadata": {},
   "outputs": [],
   "source": [
    "candidates['vehicle_id'] = candidates['vehicle_id'].str.replace(' ', '-')\n",
    "rfid = rfid.merge(candidates, on=['vehicle_id', 'date'])"
   ]
  },
  {
   "cell_type": "code",
   "execution_count": 9,
   "metadata": {},
   "outputs": [],
   "source": [
    "rfid.to_csv(S_GOOD_RFID_CANDIDATES, index=False)"
   ]
  },
  {
   "cell_type": "markdown",
   "metadata": {},
   "source": [
    "### 3. Good GPS candidates"
   ]
  },
  {
   "cell_type": "code",
   "execution_count": 10,
   "metadata": {},
   "outputs": [],
   "source": [
    "# source files\n",
    "files = list(map_matching_report['csv_file'])\n",
    "S_GPS_FILES = list(map(lambda x,y: x+y, [S_GPS_DIR]*len(files), files))\n",
    "\n",
    "# Target files\n",
    "T_GPS_DIR = '/Data/Source/GoodGPSCandidates/'\n",
    "T_GPS_FILES = list(map(lambda x,y: x+y, [T_GPS_DIR]*len(files), files))"
   ]
  },
  {
   "cell_type": "code",
   "execution_count": 11,
   "metadata": {},
   "outputs": [],
   "source": [
    "for src, trgt in zip(S_GPS_FILES, T_GPS_FILES):\n",
    "    pd.read_csv(src).to_csv(trgt, index=False)"
   ]
  },
  {
   "cell_type": "code",
   "execution_count": null,
   "metadata": {},
   "outputs": [],
   "source": []
  }
 ],
 "metadata": {
  "kernelspec": {
   "display_name": "Python 3",
   "language": "python",
   "name": "python3"
  },
  "language_info": {
   "codemirror_mode": {
    "name": "ipython",
    "version": 3
   },
   "file_extension": ".py",
   "mimetype": "text/x-python",
   "name": "python",
   "nbconvert_exporter": "python",
   "pygments_lexer": "ipython3",
   "version": "3.8.2"
  }
 },
 "nbformat": 4,
 "nbformat_minor": 4
}
