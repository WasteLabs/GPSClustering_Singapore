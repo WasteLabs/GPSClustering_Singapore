{
 "cells": [
  {
   "cell_type": "markdown",
   "metadata": {
    "extensions": {
     "jupyter_dashboards": {
      "version": 1,
      "views": {
       "default_view": {
        "col": 0,
        "height": 2,
        "hidden": false,
        "row": 0,
        "width": 12
       }
      }
     }
    }
   },
   "source": [
    "# About\n",
    "In notebook 04, we've found that time shifts are different for different type of trucks.\n",
    "So, in this notebook i'll try to detect time shifts for different trucks and routes"
   ]
  },
  {
   "cell_type": "code",
   "execution_count": 1,
   "metadata": {
    "extensions": {
     "jupyter_dashboards": {
      "version": 1,
      "views": {
       "default_view": {
        "hidden": true
       }
      }
     }
    }
   },
   "outputs": [],
   "source": [
    "import os\n",
    "import numpy as np\n",
    "import pandas as pd\n",
    "import logging\n",
    "from shapely.geometry import Point\n",
    "import plotly.express as px\n",
    "import geopandas as gpd\n",
    "import plotly.express as px\n",
    "from multiprocessing import Pool\n",
    "from scipy.stats import zscore\n",
    "from GPSOdyssey import Polaris, Kepler, Void, Vega\n",
    "from IPython.core.interactiveshell import InteractiveShell\n",
    "InteractiveShell.ast_node_interactivity = 'all'"
   ]
  },
  {
   "cell_type": "markdown",
   "metadata": {
    "extensions": {
     "jupyter_dashboards": {
      "version": 1,
      "views": {
       "default_view": {
        "col": 0,
        "height": 9,
        "hidden": false,
        "row": 2,
        "width": 12
       }
      }
     }
    }
   },
   "source": [
    "## Time shifts\n",
    "\n",
    "* RFID: by default client provides time shifts in +08:00\n",
    "* GPS: Different for different trucks"
   ]
  },
  {
   "cell_type": "code",
   "execution_count": 2,
   "metadata": {
    "extensions": {
     "jupyter_dashboards": {
      "version": 1,
      "views": {
       "default_view": {
        "hidden": true
       }
      }
     }
    }
   },
   "outputs": [],
   "source": [
    "def generate_trip_id(gps):\n",
    "    gps['trip_id'] = gps['date'].astype('str') + ' ' + gps['vehicle_id']\n",
    "    return gps\n",
    "\n",
    "def generate_point_id(gps):\n",
    "    gps['point_id'] = gps['datetime'].astype('str') + ' ' + gps['vehicle_id']\n",
    "    return gps"
   ]
  },
  {
   "cell_type": "markdown",
   "metadata": {
    "extensions": {
     "jupyter_dashboards": {
      "version": 1,
      "views": {
       "default_view": {
        "col": 0,
        "height": 2,
        "hidden": false,
        "row": 11,
        "width": 12
       }
      }
     }
    }
   },
   "source": [
    "## Data"
   ]
  },
  {
   "cell_type": "markdown",
   "metadata": {
    "extensions": {
     "jupyter_dashboards": {
      "version": 1,
      "views": {
       "default_view": {
        "col": 0,
        "height": 2,
        "hidden": false,
        "row": 13,
        "width": 12
       }
      }
     }
    }
   },
   "source": [
    "### Map matching report"
   ]
  },
  {
   "cell_type": "code",
   "execution_count": 3,
   "metadata": {
    "extensions": {
     "jupyter_dashboards": {
      "version": 1,
      "views": {
       "default_view": {
        "hidden": true
       }
      }
     }
    }
   },
   "outputs": [],
   "source": [
    "map_matching_report = pd.read_csv('/Data/Intermediate/MapMatchingReports/MapMatching_october2020.csv')\n",
    "\n",
    "map_matching_report = Polaris(map_matching_report) \\\n",
    "    .pandas_df_operation(func_name='rename', arguments={'columns': {'truck_id': 'vehicle_id'}}).df\n",
    "\n",
    "map_matching_report['vehicle_id'] = map_matching_report['vehicle_id'].str.replace(' ', '-')"
   ]
  },
  {
   "cell_type": "markdown",
   "metadata": {
    "extensions": {
     "jupyter_dashboards": {
      "version": 1,
      "views": {
       "default_view": {
        "col": 0,
        "height": 2,
        "hidden": false,
        "row": 15,
        "width": 12
       }
      }
     }
    }
   },
   "source": [
    "### 1. Route vehicle assignment"
   ]
  },
  {
   "cell_type": "code",
   "execution_count": 4,
   "metadata": {
    "extensions": {
     "jupyter_dashboards": {
      "version": 1,
      "views": {
       "default_view": {
        "hidden": true
       }
      }
     }
    }
   },
   "outputs": [],
   "source": [
    "I_ROUTE_VEHICLE_ASSIGNMENT = '/Data/Intermediate/assignments/route_vehicle_assignments_october.csv'\n",
    "\n",
    "route_vehic_assign = pd.read_csv(I_ROUTE_VEHICLE_ASSIGNMENT)\n",
    "route_vehic_assign = route_vehic_assign[route_vehic_assign['route_type'] == 'JS-SE'] \\\n",
    "    .groupby(['route_type']).agg({'vehicle_id': 'unique'}).reset_index()\n",
    "\n",
    "route_vehic_assign = route_vehic_assign.explode('vehicle_id')"
   ]
  },
  {
   "cell_type": "markdown",
   "metadata": {
    "extensions": {
     "jupyter_dashboards": {
      "version": 1,
      "views": {
       "default_view": {
        "col": 0,
        "height": 2,
        "hidden": false,
        "row": 17,
        "width": 12
       }
      }
     }
    }
   },
   "source": [
    "### 2. RFID"
   ]
  },
  {
   "cell_type": "code",
   "execution_count": 14,
   "metadata": {
    "extensions": {
     "jupyter_dashboards": {
      "version": 1,
      "views": {
       "default_view": {
        "hidden": true
       }
      }
     }
    }
   },
   "outputs": [],
   "source": [
    "S_RFID_OCTOBER = '/Data/Source/RFID/RFID_october.csv'\n",
    "\n",
    "\n",
    "rfid = pd.read_csv(S_RFID_OCTOBER)\n",
    "rfid['is_rfid_active'] = True\n",
    "\n",
    "RFID_COLUMNS = ['date', 'time', 'unixtime', 'vehicle_id',\n",
    "                'RFID', 'is_rfid_active', 'Latitude', 'Longitude']\n",
    "rfid = rfid.loc[:, RFID_COLUMNS]\n",
    "rfid.columns = [str(x).lower() for x in rfid.columns]\n",
    "\n",
    "rfid = rfid.sort_values(by='unixtime')\n",
    "rfid['datetime'] = rfid['date'] + ' ' + rfid['time']\n",
    "\n",
    "\n",
    "rfid = generate_trip_id(rfid)\n",
    "rfid = generate_point_id(rfid)"
   ]
  },
  {
   "cell_type": "code",
   "execution_count": 17,
   "metadata": {},
   "outputs": [
    {
     "data": {
      "text/html": [
       "<div>\n",
       "<style scoped>\n",
       "    .dataframe tbody tr th:only-of-type {\n",
       "        vertical-align: middle;\n",
       "    }\n",
       "\n",
       "    .dataframe tbody tr th {\n",
       "        vertical-align: top;\n",
       "    }\n",
       "\n",
       "    .dataframe thead th {\n",
       "        text-align: right;\n",
       "    }\n",
       "</style>\n",
       "<table border=\"1\" class=\"dataframe\">\n",
       "  <thead>\n",
       "    <tr style=\"text-align: right;\">\n",
       "      <th></th>\n",
       "      <th>date</th>\n",
       "      <th>time</th>\n",
       "      <th>unixtime</th>\n",
       "      <th>vehicle_id</th>\n",
       "      <th>rfid</th>\n",
       "      <th>is_rfid_active</th>\n",
       "      <th>latitude</th>\n",
       "      <th>longitude</th>\n",
       "      <th>datetime</th>\n",
       "      <th>trip_id</th>\n",
       "      <th>point_id</th>\n",
       "    </tr>\n",
       "  </thead>\n",
       "  <tbody>\n",
       "    <tr>\n",
       "      <th>25169</th>\n",
       "      <td>2020-10-01</td>\n",
       "      <td>06:38:42</td>\n",
       "      <td>1.601534e+09</td>\n",
       "      <td>XE-5630M</td>\n",
       "      <td>E2000019950C00710980BB82</td>\n",
       "      <td>True</td>\n",
       "      <td>1.338714</td>\n",
       "      <td>103.776499</td>\n",
       "      <td>2020-10-01 06:38:42</td>\n",
       "      <td>2020-10-01 XE-5630M</td>\n",
       "      <td>2020-10-01 06:38:42 XE-5630M</td>\n",
       "    </tr>\n",
       "    <tr>\n",
       "      <th>25170</th>\n",
       "      <td>2020-10-01</td>\n",
       "      <td>06:39:56</td>\n",
       "      <td>1.601534e+09</td>\n",
       "      <td>XE-5630M</td>\n",
       "      <td>E2000019950C01380990B9EC</td>\n",
       "      <td>True</td>\n",
       "      <td>1.338814</td>\n",
       "      <td>103.776459</td>\n",
       "      <td>2020-10-01 06:39:56</td>\n",
       "      <td>2020-10-01 XE-5630M</td>\n",
       "      <td>2020-10-01 06:39:56 XE-5630M</td>\n",
       "    </tr>\n",
       "    <tr>\n",
       "      <th>25171</th>\n",
       "      <td>2020-10-01</td>\n",
       "      <td>06:40:10</td>\n",
       "      <td>1.601534e+09</td>\n",
       "      <td>XE-5630M</td>\n",
       "      <td>E2000019951001870580E1AB</td>\n",
       "      <td>True</td>\n",
       "      <td>1.338790</td>\n",
       "      <td>103.776400</td>\n",
       "      <td>2020-10-01 06:40:10</td>\n",
       "      <td>2020-10-01 XE-5630M</td>\n",
       "      <td>2020-10-01 06:40:10 XE-5630M</td>\n",
       "    </tr>\n",
       "    <tr>\n",
       "      <th>25172</th>\n",
       "      <td>2020-10-01</td>\n",
       "      <td>06:40:33</td>\n",
       "      <td>1.601534e+09</td>\n",
       "      <td>XE-5630M</td>\n",
       "      <td>E2000019951001560640DAB7</td>\n",
       "      <td>True</td>\n",
       "      <td>1.338797</td>\n",
       "      <td>103.776421</td>\n",
       "      <td>2020-10-01 06:40:33</td>\n",
       "      <td>2020-10-01 XE-5630M</td>\n",
       "      <td>2020-10-01 06:40:33 XE-5630M</td>\n",
       "    </tr>\n",
       "    <tr>\n",
       "      <th>25173</th>\n",
       "      <td>2020-10-01</td>\n",
       "      <td>06:41:01</td>\n",
       "      <td>1.601534e+09</td>\n",
       "      <td>XE-5630M</td>\n",
       "      <td>E2000019951001460720D37D</td>\n",
       "      <td>True</td>\n",
       "      <td>1.338787</td>\n",
       "      <td>103.776409</td>\n",
       "      <td>2020-10-01 06:41:01</td>\n",
       "      <td>2020-10-01 XE-5630M</td>\n",
       "      <td>2020-10-01 06:41:01 XE-5630M</td>\n",
       "    </tr>\n",
       "    <tr>\n",
       "      <th>...</th>\n",
       "      <td>...</td>\n",
       "      <td>...</td>\n",
       "      <td>...</td>\n",
       "      <td>...</td>\n",
       "      <td>...</td>\n",
       "      <td>...</td>\n",
       "      <td>...</td>\n",
       "      <td>...</td>\n",
       "      <td>...</td>\n",
       "      <td>...</td>\n",
       "      <td>...</td>\n",
       "    </tr>\n",
       "    <tr>\n",
       "      <th>40166</th>\n",
       "      <td>2020-10-31</td>\n",
       "      <td>18:01:16</td>\n",
       "      <td>1.604167e+09</td>\n",
       "      <td>XE-5640J</td>\n",
       "      <td>E20000199504004719804DB9</td>\n",
       "      <td>True</td>\n",
       "      <td>1.375479</td>\n",
       "      <td>103.687636</td>\n",
       "      <td>2020-10-31 18:01:16</td>\n",
       "      <td>2020-10-31 XE-5640J</td>\n",
       "      <td>2020-10-31 18:01:16 XE-5640J</td>\n",
       "    </tr>\n",
       "    <tr>\n",
       "      <th>40167</th>\n",
       "      <td>2020-10-31</td>\n",
       "      <td>18:03:56</td>\n",
       "      <td>1.604167e+09</td>\n",
       "      <td>XE-5640J</td>\n",
       "      <td>E2000019950401312330280E</td>\n",
       "      <td>True</td>\n",
       "      <td>1.372425</td>\n",
       "      <td>103.688925</td>\n",
       "      <td>2020-10-31 18:03:56</td>\n",
       "      <td>2020-10-31 XE-5640J</td>\n",
       "      <td>2020-10-31 18:03:56 XE-5640J</td>\n",
       "    </tr>\n",
       "    <tr>\n",
       "      <th>40168</th>\n",
       "      <td>2020-10-31</td>\n",
       "      <td>18:04:44</td>\n",
       "      <td>1.604167e+09</td>\n",
       "      <td>XE-5640J</td>\n",
       "      <td>E20000199504019624501DDE</td>\n",
       "      <td>True</td>\n",
       "      <td>1.372200</td>\n",
       "      <td>103.689076</td>\n",
       "      <td>2020-10-31 18:04:44</td>\n",
       "      <td>2020-10-31 XE-5640J</td>\n",
       "      <td>2020-10-31 18:04:44 XE-5640J</td>\n",
       "    </tr>\n",
       "    <tr>\n",
       "      <th>40169</th>\n",
       "      <td>2020-10-31</td>\n",
       "      <td>18:14:39</td>\n",
       "      <td>1.604168e+09</td>\n",
       "      <td>XE-5640J</td>\n",
       "      <td>E2000019951002130670D964</td>\n",
       "      <td>True</td>\n",
       "      <td>1.372366</td>\n",
       "      <td>103.693915</td>\n",
       "      <td>2020-10-31 18:14:39</td>\n",
       "      <td>2020-10-31 XE-5640J</td>\n",
       "      <td>2020-10-31 18:14:39 XE-5640J</td>\n",
       "    </tr>\n",
       "    <tr>\n",
       "      <th>40170</th>\n",
       "      <td>2020-10-31</td>\n",
       "      <td>18:16:11</td>\n",
       "      <td>1.604168e+09</td>\n",
       "      <td>XE-5640J</td>\n",
       "      <td>E200001C260902222610C3A7</td>\n",
       "      <td>True</td>\n",
       "      <td>1.372728</td>\n",
       "      <td>103.694062</td>\n",
       "      <td>2020-10-31 18:16:11</td>\n",
       "      <td>2020-10-31 XE-5640J</td>\n",
       "      <td>2020-10-31 18:16:11 XE-5640J</td>\n",
       "    </tr>\n",
       "  </tbody>\n",
       "</table>\n",
       "<p>50935 rows × 11 columns</p>\n",
       "</div>"
      ],
      "text/plain": [
       "             date      time      unixtime vehicle_id  \\\n",
       "25169  2020-10-01  06:38:42  1.601534e+09   XE-5630M   \n",
       "25170  2020-10-01  06:39:56  1.601534e+09   XE-5630M   \n",
       "25171  2020-10-01  06:40:10  1.601534e+09   XE-5630M   \n",
       "25172  2020-10-01  06:40:33  1.601534e+09   XE-5630M   \n",
       "25173  2020-10-01  06:41:01  1.601534e+09   XE-5630M   \n",
       "...           ...       ...           ...        ...   \n",
       "40166  2020-10-31  18:01:16  1.604167e+09   XE-5640J   \n",
       "40167  2020-10-31  18:03:56  1.604167e+09   XE-5640J   \n",
       "40168  2020-10-31  18:04:44  1.604167e+09   XE-5640J   \n",
       "40169  2020-10-31  18:14:39  1.604168e+09   XE-5640J   \n",
       "40170  2020-10-31  18:16:11  1.604168e+09   XE-5640J   \n",
       "\n",
       "                           rfid  is_rfid_active  latitude   longitude  \\\n",
       "25169  E2000019950C00710980BB82            True  1.338714  103.776499   \n",
       "25170  E2000019950C01380990B9EC            True  1.338814  103.776459   \n",
       "25171  E2000019951001870580E1AB            True  1.338790  103.776400   \n",
       "25172  E2000019951001560640DAB7            True  1.338797  103.776421   \n",
       "25173  E2000019951001460720D37D            True  1.338787  103.776409   \n",
       "...                         ...             ...       ...         ...   \n",
       "40166  E20000199504004719804DB9            True  1.375479  103.687636   \n",
       "40167  E2000019950401312330280E            True  1.372425  103.688925   \n",
       "40168  E20000199504019624501DDE            True  1.372200  103.689076   \n",
       "40169  E2000019951002130670D964            True  1.372366  103.693915   \n",
       "40170  E200001C260902222610C3A7            True  1.372728  103.694062   \n",
       "\n",
       "                  datetime              trip_id                      point_id  \n",
       "25169  2020-10-01 06:38:42  2020-10-01 XE-5630M  2020-10-01 06:38:42 XE-5630M  \n",
       "25170  2020-10-01 06:39:56  2020-10-01 XE-5630M  2020-10-01 06:39:56 XE-5630M  \n",
       "25171  2020-10-01 06:40:10  2020-10-01 XE-5630M  2020-10-01 06:40:10 XE-5630M  \n",
       "25172  2020-10-01 06:40:33  2020-10-01 XE-5630M  2020-10-01 06:40:33 XE-5630M  \n",
       "25173  2020-10-01 06:41:01  2020-10-01 XE-5630M  2020-10-01 06:41:01 XE-5630M  \n",
       "...                    ...                  ...                           ...  \n",
       "40166  2020-10-31 18:01:16  2020-10-31 XE-5640J  2020-10-31 18:01:16 XE-5640J  \n",
       "40167  2020-10-31 18:03:56  2020-10-31 XE-5640J  2020-10-31 18:03:56 XE-5640J  \n",
       "40168  2020-10-31 18:04:44  2020-10-31 XE-5640J  2020-10-31 18:04:44 XE-5640J  \n",
       "40169  2020-10-31 18:14:39  2020-10-31 XE-5640J  2020-10-31 18:14:39 XE-5640J  \n",
       "40170  2020-10-31 18:16:11  2020-10-31 XE-5640J  2020-10-31 18:16:11 XE-5640J  \n",
       "\n",
       "[50935 rows x 11 columns]"
      ]
     },
     "execution_count": 17,
     "metadata": {},
     "output_type": "execute_result"
    }
   ],
   "source": []
  },
  {
   "cell_type": "markdown",
   "metadata": {
    "extensions": {
     "jupyter_dashboards": {
      "version": 1,
      "views": {
       "default_view": {
        "col": 0,
        "height": 2,
        "hidden": false,
        "row": 19,
        "width": 12
       }
      }
     }
    }
   },
   "source": [
    "#### Select RFID day with larges amount records"
   ]
  },
  {
   "cell_type": "code",
   "execution_count": 6,
   "metadata": {
    "extensions": {
     "jupyter_dashboards": {
      "version": 1,
      "views": {
       "default_view": {
        "hidden": true
       }
      }
     }
    }
   },
   "outputs": [],
   "source": [
    "# 1. Select only JS-SE + Count amount of records\n",
    "rfid_agg = rfid.groupby(['date', 'vehicle_id']).agg(count=('time', 'count')).reset_index()\n",
    "\n",
    "# 2. Select trucks of JS-SE route with largest amount of gps records\n",
    "rfid_agg = rfid_agg.merge(rfid_agg.groupby(['vehicle_id']).agg(count=('count', 'max')).reset_index(),\n",
    "                          how='inner', on=['vehicle_id', 'count'])\n",
    "\n",
    "# 3. Rmoeve rec vehicle id\n",
    "rfid_agg = rfid_agg[rfid_agg['vehicle_id'].str.slice(stop=2) == 'XE']\n",
    "\n",
    "# 3. Select actual rfid\n",
    "rfid = rfid.merge(rfid_agg[['date', 'vehicle_id']],\n",
    "                  how='inner', on=['date', 'vehicle_id'])"
   ]
  },
  {
   "cell_type": "markdown",
   "metadata": {
    "extensions": {
     "jupyter_dashboards": {
      "version": 1,
      "views": {
       "default_view": {
        "col": 0,
        "height": 2,
        "hidden": false,
        "row": 21,
        "width": 12
       }
      }
     }
    }
   },
   "source": [
    "### 3. GPS"
   ]
  },
  {
   "cell_type": "code",
   "execution_count": 7,
   "metadata": {
    "extensions": {
     "jupyter_dashboards": {
      "version": 1,
      "views": {
       "default_view": {
        "col": 0,
        "height": 2,
        "hidden": false,
        "row": 23,
        "width": 12
       }
      }
     }
    }
   },
   "outputs": [],
   "source": [
    "map_matching_report = map_matching_report.merge(rfid_agg.rename(columns={'date': 'waste_collection_date'}), how='inner',\n",
    "                                                on=['waste_collection_date', 'vehicle_id'])\n",
    "\n"
   ]
  },
  {
   "cell_type": "code",
   "execution_count": 8,
   "metadata": {
    "extensions": {
     "jupyter_dashboards": {
      "version": 1,
      "views": {
       "default_view": {
        "col": 0,
        "height": 2,
        "hidden": false,
        "row": 25,
        "width": 12
       }
      }
     }
    }
   },
   "outputs": [
    {
     "name": "stdout",
     "output_type": "stream",
     "text": [
      "CPU times: user 2.69 s, sys: 71.9 ms, total: 2.76 s\n",
      "Wall time: 2.83 s\n"
     ]
    }
   ],
   "source": [
    "%%time\n",
    "S_CLUSTERED_GPS = '/Data/Source/OctoberGPS/'\n",
    "\n",
    "\n",
    "vega = Vega(engine='pandas')\n",
    "gps = vega.read_from_dir(directory=S_CLUSTERED_GPS,\n",
    "                         file_extensions='.csv',\n",
    "                         args={'parse_dates': ['time']},\n",
    "                         concatenate=True, amt_in_parallel=6,\n",
    "                         filenames=map_matching_report['csv_file'])\n",
    "\n",
    "\n",
    "gps = Polaris(gps) \\\n",
    "    .select_columns(['truck_id', 'lon', 'lat', 'time', 'lon_match', 'lat_match']) \\\n",
    "    .pandas_df_operation(func_name='rename', arguments={'columns': {'truck_id': 'vehicle_id', 'time': 'datetime'}}) \\\n",
    "    .construct_datetime(datetime='datetime', offset='-02:00') \\\n",
    "    .remove_tz(time_col='datetime') \\\n",
    "    .add_date_col('datetime', 'date') \\\n",
    "    .add_time_col('datetime', 'time') \\\n",
    "    .add_unixtime('datetime', 'unixtime') \\\n",
    "    .df\n",
    "\n",
    "gps = generate_trip_id(gps)\n",
    "gps = generate_point_id(gps)\n",
    "gps['unixtime'] = gps['unixtime'].astype('int')"
   ]
  },
  {
   "cell_type": "markdown",
   "metadata": {},
   "source": [
    "# 4. RFID -> GPS"
   ]
  },
  {
   "cell_type": "code",
   "execution_count": 9,
   "metadata": {},
   "outputs": [],
   "source": [
    "gps['datetime'] = gps['datetime'].astype('str')\n",
    "rfid['datetime'] = rfid['datetime'].astype('str')"
   ]
  },
  {
   "cell_type": "code",
   "execution_count": 10,
   "metadata": {},
   "outputs": [],
   "source": [
    "gps_m = gps.merge(rfid[['rfid', 'vehicle_id', 'datetime', 'unixtime',\n",
    "                        'is_rfid_active', 'latitude', 'longitude']],\n",
    "                  on=['vehicle_id', 'datetime'], how='outer')\n",
    "\n",
    "gps_m['is_overlap'] = gps_m['lat_match'].isna()\n",
    "gps_m.sort_values(['vehicle_id', 'datetime'], inplace=True)\n",
    "\n",
    "cols2fill = ['lon', 'lat', 'time', 'vehicle_id', 'date', 'datetime', 'time',\n",
    "             'unixtime_x', 'lon_match', 'lat_match', 'trip_id', 'point_id']\n",
    "gps_m[cols2fill] = gps_m[cols2fill].fillna(method='ffill')\n",
    "\n",
    "gps_m['is_rfid_active'] = ~gps_m['rfid'].isna()"
   ]
  },
  {
   "cell_type": "code",
   "execution_count": 11,
   "metadata": {},
   "outputs": [],
   "source": [
    "gps_m[['latitude', 'longitude']] = gps_m[['latitude', 'longitude']].astype('float', errors='ignore')"
   ]
  },
  {
   "cell_type": "markdown",
   "metadata": {
    "extensions": {
     "jupyter_dashboards": {
      "version": 1,
      "views": {
       "default_view": {
        "col": 0,
        "height": 2,
        "hidden": false,
        "row": 27,
        "width": 12
       }
      }
     }
    }
   },
   "source": [
    "# 4. Visualization"
   ]
  },
  {
   "cell_type": "code",
   "execution_count": 12,
   "metadata": {
    "extensions": {
     "jupyter_dashboards": {
      "version": 1,
      "views": {
       "default_view": {
        "col": 0,
        "height": 2,
        "hidden": false,
        "row": 29,
        "width": 12
       }
      }
     }
    }
   },
   "outputs": [
    {
     "name": "stdout",
     "output_type": "stream",
     "text": [
      "User Guide: https://docs.kepler.gl/docs/keplergl-jupyter\n"
     ]
    },
    {
     "data": {
      "application/vnd.jupyter.widget-view+json": {
       "model_id": "e92a895c041d4795aeb8e4fee5aa42b7",
       "version_major": 2,
       "version_minor": 0
      },
      "text/plain": [
       "KeplerGl(config={'version': 'v1', 'config': {'visState': {'filters': [{'dataId': ['rfid'], 'id': 'dj9j3zie', '…"
      ]
     },
     "metadata": {},
     "output_type": "display_data"
    }
   ],
   "source": [
    "MAP_CONF_PATH = 'MAP_CONFIGS/05_TIME_SHIFT_ANALYSIS.json'\n",
    "\n",
    "kepler = Kepler(data={'gps': gps_m, 'rfid': rfid}, height=800, config_path=MAP_CONF_PATH)\n",
    "kepler.render_kepler_map()\n",
    "kepler.get_rendered_map()"
   ]
  },
  {
   "cell_type": "code",
   "execution_count": null,
   "metadata": {},
   "outputs": [],
   "source": [
    "# kepler.save_map_config(path=MAP_CONF_PATH, overwrite_config=True)"
   ]
  },
  {
   "cell_type": "code",
   "execution_count": null,
   "metadata": {},
   "outputs": [],
   "source": [
    "# kepler.save_map_to_html_local('time_shifts_of_same_vehicle.html', overwrite_html=True)"
   ]
  },
  {
   "cell_type": "markdown",
   "metadata": {
    "extensions": {
     "jupyter_dashboards": {
      "version": 1,
      "views": {
       "default_view": {
        "col": 0,
        "height": 2,
        "hidden": false,
        "row": 31,
        "width": 12
       }
      }
     }
    }
   },
   "source": [
    "# 5. Time shifts\n",
    "\n",
    "RFID - GPS"
   ]
  },
  {
   "cell_type": "code",
   "execution_count": 13,
   "metadata": {},
   "outputs": [
    {
     "data": {
      "text/html": [
       "<div>\n",
       "<style scoped>\n",
       "    .dataframe tbody tr th:only-of-type {\n",
       "        vertical-align: middle;\n",
       "    }\n",
       "\n",
       "    .dataframe tbody tr th {\n",
       "        vertical-align: top;\n",
       "    }\n",
       "\n",
       "    .dataframe thead th {\n",
       "        text-align: right;\n",
       "    }\n",
       "</style>\n",
       "<table border=\"1\" class=\"dataframe\">\n",
       "  <thead>\n",
       "    <tr style=\"text-align: right;\">\n",
       "      <th></th>\n",
       "      <th>route_type</th>\n",
       "      <th>vehicle_id</th>\n",
       "    </tr>\n",
       "  </thead>\n",
       "  <tbody>\n",
       "    <tr>\n",
       "      <th>0</th>\n",
       "      <td>JS-SE</td>\n",
       "      <td>XE-5638S</td>\n",
       "    </tr>\n",
       "    <tr>\n",
       "      <th>0</th>\n",
       "      <td>JS-SE</td>\n",
       "      <td>XE-5577J</td>\n",
       "    </tr>\n",
       "    <tr>\n",
       "      <th>0</th>\n",
       "      <td>JS-SE</td>\n",
       "      <td>XE-5629T</td>\n",
       "    </tr>\n",
       "  </tbody>\n",
       "</table>\n",
       "</div>"
      ],
      "text/plain": [
       "  route_type vehicle_id\n",
       "0      JS-SE   XE-5638S\n",
       "0      JS-SE   XE-5577J\n",
       "0      JS-SE   XE-5629T"
      ]
     },
     "execution_count": 13,
     "metadata": {},
     "output_type": "execute_result"
    }
   ],
   "source": [
    "route_vehic_assign"
   ]
  },
  {
   "cell_type": "code",
   "execution_count": null,
   "metadata": {},
   "outputs": [],
   "source": [
    "{\n",
    "    'XE-5638S': '-02:00',\n",
    "    'XE-5598Z': '-02:00',\n",
    "    'XE-5628X': '-02:00',\n",
    "    'XE-5577J': '-02:00',\n",
    "    'XE-5665M': '-02:00',\n",
    "    'XE-5629T': '-02:00',\n",
    "    'XE-5632H': '-02:00',\n",
    "    'XE-5680T': '-02:00',\n",
    "    'XE-5559L': '-02:00',\n",
    "    'XE-5610X': '-02:00',\n",
    "    'XE-5636Y': '-02:00',\n",
    "    'XE-5640J': '-02:00',\n",
    "    'XE-5612R': '-02:00',\n",
    "    # 'XE-5705G': '-02:00',\n",
    "    'XE-5609B': '-01:00',\n",
    "    'XE-5620S': '-01:00',\n",
    "    'XE-5639P': '-01:00',\n",
    "    'XE-5748T': '-01:00',\n",
    "    'XE-5630M': '-01:00',\n",
    "    # 'XE-5705G': '-01:00',\n",
    "}"
   ]
  },
  {
   "cell_type": "markdown",
   "metadata": {},
   "source": [
    "## Summary\n",
    "\n",
    "At the end we see different time shifts for the same truck at different day."
   ]
  },
  {
   "cell_type": "code",
   "execution_count": null,
   "metadata": {},
   "outputs": [],
   "source": []
  }
 ],
 "metadata": {
  "extensions": {
   "jupyter_dashboards": {
    "activeView": "default_view",
    "version": 1,
    "views": {
     "default_view": {
      "cellMargin": 10,
      "defaultCellHeight": 40,
      "maxColumns": 12,
      "name": "active_view",
      "type": "grid"
     }
    }
   }
  },
  "kernelspec": {
   "display_name": "Python 3",
   "language": "python",
   "name": "python3"
  },
  "language_info": {
   "codemirror_mode": {
    "name": "ipython",
    "version": 3
   },
   "file_extension": ".py",
   "mimetype": "text/x-python",
   "name": "python",
   "nbconvert_exporter": "python",
   "pygments_lexer": "ipython3",
   "version": "3.8.2"
  }
 },
 "nbformat": 4,
 "nbformat_minor": 4
}
