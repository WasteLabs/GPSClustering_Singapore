{
 "cells": [
  {
   "cell_type": "markdown",
   "metadata": {},
   "source": [
    "# About\n",
    "\n",
    "Now, we will try to perform performance estimate with different time shifts adjustments"
   ]
  },
  {
   "cell_type": "code",
   "execution_count": 1,
   "metadata": {},
   "outputs": [],
   "source": [
    "import os\n",
    "from utils.idGenerators import generate_point_id, generate_trip_id\n",
    "import numpy as np\n",
    "import pandas as pd\n",
    "import logging\n",
    "from shapely.geometry import Point\n",
    "import plotly.express as px\n",
    "import geopandas as gpd\n",
    "import plotly.express as px\n",
    "from multiprocessing import Pool\n",
    "from scipy.stats import zscore\n",
    "from GPSOdyssey import Polaris, Kepler, Void, Vega\n",
    "from IPython.core.interactiveshell import InteractiveShell\n",
    "InteractiveShell.ast_node_interactivity = 'all'"
   ]
  },
  {
   "cell_type": "markdown",
   "metadata": {},
   "source": [
    "# 1. Data\n",
    "\n",
    "* Good RFID candidates\n",
    "* RFID merge\n"
   ]
  },
  {
   "cell_type": "markdown",
   "metadata": {},
   "source": [
    "### 1.1. GPS records"
   ]
  },
  {
   "cell_type": "code",
   "execution_count": 2,
   "metadata": {},
   "outputs": [
    {
     "name": "stdout",
     "output_type": "stream",
     "text": [
      "CPU times: user 746 ms, sys: 225 ms, total: 971 ms\n",
      "Wall time: 1.13 s\n"
     ]
    }
   ],
   "source": [
    "%%time\n",
    "S_CLUSTERED_GPS = '/Data/Outputs/GPS_Clusters/'\n",
    "\n",
    "\n",
    "vega = Vega(engine='pandas')\n",
    "gps = vega.read_from_dir(directory=S_CLUSTERED_GPS,\n",
    "                             file_extensions='.csv',\n",
    "                             args={'parse_dates': ['time']},\n",
    "                             concatenate=True, amt_in_parallel=6)"
   ]
  },
  {
   "cell_type": "markdown",
   "metadata": {},
   "source": [
    "#### 1.1.1 Time shift experiments"
   ]
  },
  {
   "cell_type": "code",
   "execution_count": 3,
   "metadata": {},
   "outputs": [],
   "source": [
    "def preprocess_gps(gps, time_shift='-02:00'):\n",
    "    gps = Polaris(gps) \\\n",
    "        .select_columns(['truck_id', 'lon', 'lat', 'time', 'lon_match', 'lat_match', 'cluster_id']) \\\n",
    "        .pandas_df_operation(func_name='rename', arguments={'columns': {'truck_id': 'vehicle_id', 'time': 'datetime'}}) \\\n",
    "        .construct_datetime(datetime='datetime', offset=time_shift) \\\n",
    "        .remove_tz(time_col='datetime') \\\n",
    "        .add_date_col('datetime', 'date') \\\n",
    "        .add_time_col('datetime', 'time') \\\n",
    "        .add_unixtime('datetime', 'unixtime') \\\n",
    "        .df\n",
    "\n",
    "    gps = generate_trip_id(gps)\n",
    "    gps = generate_point_id(gps)\n",
    "    gps['unixtime'] = gps['unixtime'].astype('int')\n",
    "    return gps\n",
    "\n",
    "\n",
    "is_after_2020_10_24 = gps['time'].dt.date.astype('str') > '2020-10-24'\n",
    "gps_2h = gps[~is_after_2020_10_24]\n",
    "gps_1h = gps[is_after_2020_10_24]\n",
    "\n",
    "\n",
    "gps = pd.concat([\n",
    "    preprocess_gps(gps_1h, time_shift='-01:00'),\n",
    "    preprocess_gps(gps_2h, time_shift='-02:00')\n",
    "]).reset_index(drop=True)"
   ]
  },
  {
   "cell_type": "markdown",
   "metadata": {},
   "source": [
    "### 1.2. RFID"
   ]
  },
  {
   "cell_type": "code",
   "execution_count": 4,
   "metadata": {},
   "outputs": [],
   "source": [
    "S_RFID_OCTOBER = '/Data/Source/RFID/RFID_october.csv'\n",
    "\n",
    "\n",
    "rfid = pd.read_csv(S_RFID_OCTOBER)\n",
    "rfid['is_rfid_active'] = True\n",
    "\n",
    "RFID_COLUMNS = ['date', 'time', 'unixtime', 'vehicle_id',\n",
    "                'RFID', 'is_rfid_active', 'Latitude', 'Longitude']\n",
    "rfid = rfid.loc[:, RFID_COLUMNS]\n",
    "rfid.columns = [str(x).lower() for x in rfid.columns]\n",
    "\n",
    "rfid = rfid.sort_values(by='unixtime')\n",
    "rfid['datetime'] = rfid['date'] + ' ' + rfid['time']\n",
    "\n",
    "\n",
    "rfid = generate_trip_id(rfid)\n",
    "rfid = generate_point_id(rfid)\n",
    "\n",
    "# Select only suitalbe gps\n",
    "JS_SE_TRIPS = gps[~gps['trip_id'].duplicated(keep='last')][['trip_id']]\n",
    "rfid = rfid.merge(JS_SE_TRIPS, how='inner', on=['trip_id'])\n",
    "\n",
    "# REMOVE INCORRECT LOCATION RFID RECORD\n",
    "rfid = rfid[rfid['point_id'] != '2020-10-02 16:38:12 XE-5629T']"
   ]
  },
  {
   "cell_type": "markdown",
   "metadata": {},
   "source": [
    "### 1.3. RFID & GPS assignment output"
   ]
  },
  {
   "cell_type": "code",
   "execution_count": 5,
   "metadata": {},
   "outputs": [],
   "source": [
    "I_GPS_RFID_ASSIGNMENT = '/Data/Intermediate/assignments/rfid_gps_clusters_assignments.csv'"
   ]
  },
  {
   "cell_type": "markdown",
   "metadata": {},
   "source": [
    "# 2. Merge: RFID & clustered GPS"
   ]
  },
  {
   "cell_type": "code",
   "execution_count": 6,
   "metadata": {},
   "outputs": [],
   "source": [
    "rfid['datetime'] = rfid['datetime'].astype('str')\n",
    "gps['datetime'] = gps['datetime'].astype('str')"
   ]
  },
  {
   "cell_type": "markdown",
   "metadata": {},
   "source": [
    "#### 2.1. Merge with ffill of GPS"
   ]
  },
  {
   "cell_type": "code",
   "execution_count": 7,
   "metadata": {},
   "outputs": [],
   "source": [
    "# 1. Full outer join\n",
    "merge_columns = ['vehicle_id', 'datetime']\n",
    "gps_m = gps.merge(rfid, on=merge_columns, how='outer', suffixes=['_gps', '_rfid'])\n",
    "\n",
    "# 2. Sort values\n",
    "gps_m.sort_values(merge_columns, inplace=True)\n",
    "\n",
    "# 3. Fillna\n",
    "gps_columns = list(list(gps_m.loc[:,:'point_id_gps'].columns))\n",
    "gps_m[gps_columns] = gps_m[gps_columns].fillna(method='ffill')"
   ]
  },
  {
   "cell_type": "markdown",
   "metadata": {},
   "source": [
    "# 3. RFID activations visualization"
   ]
  },
  {
   "cell_type": "code",
   "execution_count": 8,
   "metadata": {},
   "outputs": [
    {
     "data": {
      "text/plain": [
       "array(['XE-5577J', 'XE-5629T', 'XE-5638S'], dtype=object)"
      ]
     },
     "execution_count": 8,
     "metadata": {},
     "output_type": "execute_result"
    }
   ],
   "source": [
    "gps_m['vehicle_id'].unique()"
   ]
  },
  {
   "cell_type": "code",
   "execution_count": 9,
   "metadata": {},
   "outputs": [
    {
     "data": {
      "text/plain": [
       "Index(['vehicle_id', 'lon', 'lat', 'datetime', 'lon_match', 'lat_match',\n",
       "       'cluster_id', 'date_gps', 'time_gps', 'unixtime_gps', 'trip_id_gps',\n",
       "       'point_id_gps', 'date_rfid', 'time_rfid', 'unixtime_rfid', 'rfid',\n",
       "       'is_rfid_active', 'latitude', 'longitude', 'trip_id_rfid',\n",
       "       'point_id_rfid'],\n",
       "      dtype='object')"
      ]
     },
     "execution_count": 9,
     "metadata": {},
     "output_type": "execute_result"
    }
   ],
   "source": [
    "gps_m.columns"
   ]
  },
  {
   "cell_type": "markdown",
   "metadata": {},
   "source": [
    "### 3.1. Aggregation of cluster coordinate means & back merge"
   ]
  },
  {
   "cell_type": "code",
   "execution_count": 10,
   "metadata": {
    "code_folding": []
   },
   "outputs": [],
   "source": [
    "cluster_group_cols = ['trip_id_gps', 'cluster_id']\n",
    "gps_clusters_agg = gps_m[gps_m['cluster_id'] != -1]\n",
    "gps_clusters_agg = gps_clusters_agg.groupby(cluster_group_cols).agg(cluster_lon_mean=('lon_match', 'mean'),\n",
    "                                                                    cluster_lat_mean=('lat_match', 'mean'),\n",
    "                                                                    rfid_amt_in_cluster=('is_rfid_active', 'sum')\n",
    "                                                                   ).reset_index()\n",
    "gps_m = gps_m.merge(gps_clusters_agg, on=cluster_group_cols, how='left')"
   ]
  },
  {
   "cell_type": "code",
   "execution_count": 11,
   "metadata": {},
   "outputs": [],
   "source": [
    "gps_m['cluster'] = 'cluster: ' + gps_m['cluster_id'].astype('str')"
   ]
  },
  {
   "cell_type": "code",
   "execution_count": 12,
   "metadata": {
    "code_folding": []
   },
   "outputs": [
    {
     "name": "stdout",
     "output_type": "stream",
     "text": [
      "User Guide: https://docs.kepler.gl/docs/keplergl-jupyter\n"
     ]
    },
    {
     "data": {
      "application/vnd.jupyter.widget-view+json": {
       "model_id": "8357fb630b9a4c479cb07382fc5d13fe",
       "version_major": 2,
       "version_minor": 0
      },
      "text/plain": [
       "KeplerGl(config={'version': 'v1', 'config': {'visState': {'filters': [{'dataId': ['gps'], 'id': '1ffcx43y5', '…"
      ]
     },
     "metadata": {},
     "output_type": "display_data"
    }
   ],
   "source": [
    "MAP_CONFIG = 'MAP_CONFIGS/09_RFID_GPS_CLUSTER_VISUALIZATION.json'\n",
    "\n",
    "\n",
    "kepler = Kepler({'gps': gps_m},\n",
    "                config_path=MAP_CONFIG,\n",
    "                height=1000)\n",
    "\n",
    "\n",
    "kepler.render_kepler_map()\n",
    "kepler.get_rendered_map()"
   ]
  },
  {
   "cell_type": "code",
   "execution_count": null,
   "metadata": {},
   "outputs": [],
   "source": [
    "# kepler.save_map_to_html_local(path='RFID_GPS_CLUSTER_VISUALIZATION.html', use_existing_render=True)"
   ]
  },
  {
   "cell_type": "code",
   "execution_count": 14,
   "metadata": {},
   "outputs": [
    {
     "name": "stderr",
     "output_type": "stream",
     "text": [
      "WARNING:root:File already exists and will be over-written.\n"
     ]
    }
   ],
   "source": [
    "kepler.save_map_config(path=MAP_CONFIG, overwrite_config=True)"
   ]
  },
  {
   "cell_type": "code",
   "execution_count": null,
   "metadata": {},
   "outputs": [],
   "source": []
  }
 ],
 "metadata": {
  "kernelspec": {
   "display_name": "Python 3",
   "language": "python",
   "name": "python3"
  },
  "language_info": {
   "codemirror_mode": {
    "name": "ipython",
    "version": 3
   },
   "file_extension": ".py",
   "mimetype": "text/x-python",
   "name": "python",
   "nbconvert_exporter": "python",
   "pygments_lexer": "ipython3",
   "version": "3.8.5"
  },
  "varInspector": {
   "cols": {
    "lenName": 16,
    "lenType": 16,
    "lenVar": 40
   },
   "kernels_config": {
    "python": {
     "delete_cmd_postfix": "",
     "delete_cmd_prefix": "del ",
     "library": "var_list.py",
     "varRefreshCmd": "print(var_dic_list())"
    },
    "r": {
     "delete_cmd_postfix": ") ",
     "delete_cmd_prefix": "rm(",
     "library": "var_list.r",
     "varRefreshCmd": "cat(var_dic_list()) "
    }
   },
   "types_to_exclude": [
    "module",
    "function",
    "builtin_function_or_method",
    "instance",
    "_Feature"
   ],
   "window_display": false
  }
 },
 "nbformat": 4,
 "nbformat_minor": 4
}
