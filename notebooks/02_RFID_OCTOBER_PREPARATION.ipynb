{
 "cells": [
  {
   "cell_type": "markdown",
   "metadata": {},
   "source": [
    "# About\n",
    "\n",
    "Notebook was created to prepare RFID october data\n",
    "\n",
    "Data are provided by [ALBA WH](https://github.com/WasteLabs/alba_wh/tree/main/sandbox/activity_extraction/data)\n",
    "\n",
    "From terminal install GPSOdyssey: \n",
    "```python\n",
    "pip3 install git+https://github.com/WasteLabs/GPSOdyssey.git\n",
    "```"
   ]
  },
  {
   "cell_type": "code",
   "execution_count": 1,
   "metadata": {},
   "outputs": [],
   "source": [
    "# NOTE INSTALL THESE FIRST\n",
    "# !pip3 install openpyxl\n",
    "# !pip3 install xlrd"
   ]
  },
  {
   "cell_type": "code",
   "execution_count": 2,
   "metadata": {},
   "outputs": [],
   "source": [
    "import os\n",
    "import numpy as np\n",
    "import pandas as pd\n",
    "from GPSOdyssey import Polaris, Kepler, Void, Vega\n",
    "import plotly.express as px\n",
    "import geopandas as gpd\n",
    "from scipy.stats import zscore\n",
    "from multiprocessing import Pool\n",
    "from IPython.core.interactiveshell import InteractiveShell\n",
    "InteractiveShell.ast_node_interactivity = 'all'"
   ]
  },
  {
   "cell_type": "markdown",
   "metadata": {},
   "source": [
    "# Data"
   ]
  },
  {
   "cell_type": "code",
   "execution_count": 3,
   "metadata": {},
   "outputs": [],
   "source": [
    "S_RFID_OCTOBER = '/Data/Source/RFID/RFID_october.csv'"
   ]
  },
  {
   "cell_type": "markdown",
   "metadata": {},
   "source": [
    "## RFID collection report"
   ]
  },
  {
   "cell_type": "code",
   "execution_count": 4,
   "metadata": {},
   "outputs": [
    {
     "name": "stderr",
     "output_type": "stream",
     "text": [
      "/usr/local/lib/python3.8/site-packages/openpyxl/styles/stylesheet.py:214: UserWarning: Workbook contains no default style, apply openpyxl's default\n",
      "  warn(\"Workbook contains no default style, apply openpyxl's default\")\n"
     ]
    }
   ],
   "source": [
    "RFID_folder = '/Data/Source/RFID/RAW/'\n",
    "\n",
    "service_report1 = pd.read_excel(RFID_folder + 'collectionReport 26-OCT-20.xlsx', engine='openpyxl', dtype={'Zip': str})\n",
    "service_report2 = pd.read_excel(RFID_folder + 'collectionReport (2-NOV-20).xlsx', engine='openpyxl', dtype={'Zip': str})\n",
    "service_report3 = pd.read_excel(RFID_folder + 'E28011057000020F9BDCE95E.xlsx', engine='openpyxl', dtype={'Zip': str})\n",
    "rfid = pd.concat([service_report1, service_report2, service_report3])"
   ]
  },
  {
   "cell_type": "markdown",
   "metadata": {},
   "source": [
    "### Postprocessing"
   ]
  },
  {
   "cell_type": "code",
   "execution_count": 5,
   "metadata": {},
   "outputs": [],
   "source": [
    "def post_process(rfid):\n",
    "\n",
    "    # 1. Select october\n",
    "    rfid = rfid[pd.to_datetime(rfid['Date']).dt.month == 10]\n",
    "\n",
    "    # 2. Remove incorrect\n",
    "    rfid = rfid.loc[((rfid.Latitude != 0) & (rfid.Longitude != 0)), :]\n",
    "    rfid = rfid.loc[~rfid['RFID'].isna(), :]\n",
    "    rfid = rfid.loc[rfid.RFID.str.contains('0'), :]\n",
    "    rfid = rfid[rfid['RFID'] != '0']\n",
    "    \n",
    "    # 3. Adjust time shift\n",
    "    rfid = Polaris(rfid) \\\n",
    "        .construct_datetime(date_col='Date', time_col='Time',\n",
    "                            offset='+00:00', new_col='datetime') \\\n",
    "        .remove_tz(time_col='datetime') \\\n",
    "        .add_date_col('datetime', 'Date') \\\n",
    "        .add_time_col('datetime', 'Time') \\\n",
    "        .add_unixtime('datetime', 'unixtime') \\\n",
    "        .pandas_df_operation(func_name='rename',\n",
    "                             arguments={'columns': {'Truck': 'vehicle_id',\n",
    "                                                    'Date': 'date', 'Time': 'time'}}) \\\n",
    "        .df\n",
    "\n",
    "    # 4. Ensure unique truck & unixtime\n",
    "    rfid = rfid[~rfid[['vehicle_id', 'unixtime']].duplicated(keep='first')].reset_index(drop=True)\n",
    "\n",
    "    # 5. Ensure single GPS activation\n",
    "    rfid = rfid[~rfid[['date', 'vehicle_id', 'RFID']].duplicated(keep='first')].reset_index(drop=True)\n",
    "    rfid = rfid.sort_values(by=['vehicle_id', 'unixtime'])\n",
    "    return rfid"
   ]
  },
  {
   "cell_type": "code",
   "execution_count": 6,
   "metadata": {},
   "outputs": [],
   "source": [
    "p_rfid = post_process(rfid.copy())\n",
    "p_rfid.to_csv(S_RFID_OCTOBER, index=False)"
   ]
  }
 ],
 "metadata": {
  "kernelspec": {
   "display_name": "Python 3",
   "language": "python",
   "name": "python3"
  },
  "language_info": {
   "codemirror_mode": {
    "name": "ipython",
    "version": 3
   },
   "file_extension": ".py",
   "mimetype": "text/x-python",
   "name": "python",
   "nbconvert_exporter": "python",
   "pygments_lexer": "ipython3",
   "version": "3.8.2"
  }
 },
 "nbformat": 4,
 "nbformat_minor": 4
}
