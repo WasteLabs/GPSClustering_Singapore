{
 "cells": [
  {
   "cell_type": "markdown",
   "metadata": {},
   "source": [
    "# About\n",
    "\n",
    "To detect potential waste collection area, it would be good to detect if truck is moving or not? Because it is crucial feature:\n",
    "* Moving truck 100% is not collecting waste"
   ]
  },
  {
   "cell_type": "markdown",
   "metadata": {},
   "source": [
    "## 2. Data collection\n",
    "Given notebook is created to collect data set which will help to identify moving & staying point"
   ]
  },
  {
   "cell_type": "code",
   "execution_count": 1,
   "metadata": {},
   "outputs": [],
   "source": [
    "TRUCK = ['XE 5609B', 'XE 5610X', 'XE 5577J', 'XE 5598Z',\n",
    "         'XE 5609B', 'XE 5610X', 'XE 5629T', 'XE 5612R',\n",
    "         'XE 5630M']\n",
    "PARAMETERS = [\n",
    "    [ \n",
    "        (\"06:02:52am\", \"06:43:39am\", False),\n",
    "        (\"06:47:22am\", \"07:02:12am\", True),\n",
    "        (\"07:23:31am\", \"07:51:20am\", False),\n",
    "    ],\n",
    "    [\n",
    "        (\"07:47:36am\", \"08:00:34am\", True),\n",
    "        (\"08:22:17am\", \"08:27:50am\", True),\n",
    "        (\"08:28:23am\", \"09:11:02am\", False),\n",
    "        (\"09:28:22am\", \"09:35:47am\", True),\n",
    "        (\"09:40:11am\", \"09:44:54am\", False),\n",
    "        (\"09:50:03am\", \"10:02:21am\", True),\n",
    "    ],\n",
    "    [\n",
    "        (\"07:04:58am\", \"07:40:25am\", True),\n",
    "        (\"07:46:10am\", \"08:01:14am\", False),\n",
    "        (\"09:18:52am\", \"09:33:56am\", True),\n",
    "        (\"10:43:43am\", \"10:58:47am\", False),\n",
    "        (\"02:29:53pm\", \"02:56:05pm\", False),\n",
    "    ],\n",
    "    [\n",
    "        (\"07:49:27am\", \"09:03:51am\", False),\n",
    "        (\"09:08:15am\", \"09:30:44am\", True),\n",
    "        (\"09:31:25am\", \"10:06:53am\", False),\n",
    "        (\"11:08:45am\", \"11:15:28am\", True),\n",
    "        (\"01:00:49pm\", \"01:19:36pm\", False),\n",
    "        (\"02:38:09pm\", \"02:48:35pm\", False),\n",
    "        (\"03:05:02pm\", \"03:16:23pm\", False),\n",
    "    ],\n",
    "    [\n",
    "        (\"06:47:21am\", \"07:02:25am\", True),\n",
    "        (\"07:06:49am\", \"08:17:30am\", False),\n",
    "        (\"08:40:26am\", \"08:54:35am\", True),\n",
    "        (\"09:14:13am\", \"09:28:21am\", False),\n",
    "        (\"06:47:21am\", \"07:07:09am\", True),\n",
    "        (\"03:21:48pm\", \"03:31:25pm\", True),\n",
    "        (\"03:45:19pm\", \"04:02:35pm\", True),\n",
    "    ],\n",
    "    [\n",
    "        ('07:47:36am', '08:00:35am', True),\n",
    "        ('09:50:38am', '10:09:10am', True),\n",
    "    ],\n",
    "    [\n",
    "        ('06:17:42am', '06:37:10am', True),\n",
    "        (\"07:42:03am\", \"08:54:21am\", False),\n",
    "        ('10:54:51am', '11:13:23am', True),\n",
    "        ('11:25:26am', '11:42:07am', True),\n",
    "        ('02:47:31pm', '03:11:37pm', True)\n",
    "    ],\n",
    "    [\n",
    "        ('06:38:05am', '07:03:06am', True),\n",
    "        ('09:37:55am', '09:52:45am', True),\n",
    "        ('11:21:44am', '11:34:43am', True),\n",
    "        ('03:29:13pm', '03:48:42pm', True),\n",
    "    ],\n",
    "    [\n",
    "        ('06:20:29am', '06:39:01am', True),\n",
    "        ('11:29:09am', '11:47:41am', True),\n",
    "        ('11:59:44am', '00:18:16pm', True)\n",
    "    ]\n",
    "]"
   ]
  }
 ],
 "metadata": {
  "kernelspec": {
   "display_name": "Python 3",
   "language": "python",
   "name": "python3"
  },
  "language_info": {
   "codemirror_mode": {
    "name": "ipython",
    "version": 3
   },
   "file_extension": ".py",
   "mimetype": "text/x-python",
   "name": "python",
   "nbconvert_exporter": "python",
   "pygments_lexer": "ipython3",
   "version": "3.8.2"
  }
 },
 "nbformat": 4,
 "nbformat_minor": 4
}
