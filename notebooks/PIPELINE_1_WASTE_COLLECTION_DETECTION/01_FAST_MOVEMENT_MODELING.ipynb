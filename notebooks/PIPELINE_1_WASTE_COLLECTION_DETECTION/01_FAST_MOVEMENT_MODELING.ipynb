{
 "cells": [
  {
   "cell_type": "markdown",
   "id": "blond-charity",
   "metadata": {},
   "source": [
    "# About\n",
    "\n",
    "* **Author**: Adil Rashitov\n",
    "* **Creation Date**: 19.02.2020\n",
    "* **Goal**: This notebook is created for experiments with modeling of vehicle fast movement for clustering needs\n",
    "* **Deliverable**: Model detecting if car moving fast or not"
   ]
  },
  {
   "cell_type": "code",
   "execution_count": 1,
   "id": "sharp-discussion",
   "metadata": {
    "code_folding": []
   },
   "outputs": [],
   "source": [
    "# Imports\n",
    "import os\n",
    "import numpy as np\n",
    "import pandas as pd\n",
    "import logging\n",
    "import plotly.express as px\n",
    "import geopandas as gpd\n",
    "import plotly.express as px\n",
    "from multiprocessing import Pool\n",
    "from sklearn.model_selection import train_test_split\n",
    "from GPSOdyssey import Polaris, Kepler, Void, Vega\n",
    "from IPython.core.interactiveshell import InteractiveShell\n",
    "InteractiveShell.ast_node_interactivity = 'all'\n",
    "\n",
    "%load_ext autoreload\n",
    "%autoreload 2"
   ]
  },
  {
   "cell_type": "markdown",
   "id": "collective-garlic",
   "metadata": {},
   "source": [
    "# Data"
   ]
  },
  {
   "cell_type": "code",
   "execution_count": 2,
   "id": "seeing-performance",
   "metadata": {},
   "outputs": [],
   "source": [
    "HISTORY = []"
   ]
  },
  {
   "cell_type": "markdown",
   "id": "sapphire-procedure",
   "metadata": {},
   "source": [
    "## Train GPS records "
   ]
  },
  {
   "cell_type": "code",
   "execution_count": 3,
   "id": "applied-grammar",
   "metadata": {},
   "outputs": [
    {
     "data": {
      "text/html": [
       "<div>\n",
       "<style scoped>\n",
       "    .dataframe tbody tr th:only-of-type {\n",
       "        vertical-align: middle;\n",
       "    }\n",
       "\n",
       "    .dataframe tbody tr th {\n",
       "        vertical-align: top;\n",
       "    }\n",
       "\n",
       "    .dataframe thead th {\n",
       "        text-align: right;\n",
       "    }\n",
       "</style>\n",
       "<table border=\"1\" class=\"dataframe\">\n",
       "  <thead>\n",
       "    <tr style=\"text-align: right;\">\n",
       "      <th></th>\n",
       "      <th>truck_id</th>\n",
       "      <th>lat_match</th>\n",
       "      <th>lon_match</th>\n",
       "      <th>lon</th>\n",
       "      <th>lat</th>\n",
       "      <th>datetime</th>\n",
       "      <th>velocity</th>\n",
       "      <th>is_speed_large</th>\n",
       "      <th>vehicle_id</th>\n",
       "      <th>trip_id</th>\n",
       "    </tr>\n",
       "  </thead>\n",
       "  <tbody>\n",
       "    <tr>\n",
       "      <th>0</th>\n",
       "      <td>XE 5565T</td>\n",
       "      <td>1.334048</td>\n",
       "      <td>103.643252</td>\n",
       "      <td>103.643272</td>\n",
       "      <td>1.334069</td>\n",
       "      <td>2020-10-01 05:20:47+00:00</td>\n",
       "      <td>3.700296</td>\n",
       "      <td>True</td>\n",
       "      <td>XE-5565T</td>\n",
       "      <td>XE-5565T 2020-10-01</td>\n",
       "    </tr>\n",
       "    <tr>\n",
       "      <th>1</th>\n",
       "      <td>XE 5565T</td>\n",
       "      <td>1.334188</td>\n",
       "      <td>103.643109</td>\n",
       "      <td>103.643047</td>\n",
       "      <td>1.334273</td>\n",
       "      <td>2020-10-01 05:21:04+00:00</td>\n",
       "      <td>4.881020</td>\n",
       "      <td>True</td>\n",
       "      <td>XE-5565T</td>\n",
       "      <td>XE-5565T 2020-10-01</td>\n",
       "    </tr>\n",
       "    <tr>\n",
       "      <th>2</th>\n",
       "      <td>XE 5565T</td>\n",
       "      <td>1.334340</td>\n",
       "      <td>103.642950</td>\n",
       "      <td>103.642965</td>\n",
       "      <td>1.334356</td>\n",
       "      <td>2020-10-01 05:21:09+00:00</td>\n",
       "      <td>5.130609</td>\n",
       "      <td>True</td>\n",
       "      <td>XE-5565T</td>\n",
       "      <td>XE-5565T 2020-10-01</td>\n",
       "    </tr>\n",
       "    <tr>\n",
       "      <th>3</th>\n",
       "      <td>XE 5565T</td>\n",
       "      <td>1.334502</td>\n",
       "      <td>103.642785</td>\n",
       "      <td>103.642804</td>\n",
       "      <td>1.334521</td>\n",
       "      <td>2020-10-01 05:21:14+00:00</td>\n",
       "      <td>7.087420</td>\n",
       "      <td>True</td>\n",
       "      <td>XE-5565T</td>\n",
       "      <td>XE-5565T 2020-10-01</td>\n",
       "    </tr>\n",
       "    <tr>\n",
       "      <th>4</th>\n",
       "      <td>XE 5565T</td>\n",
       "      <td>1.334802</td>\n",
       "      <td>103.642673</td>\n",
       "      <td>103.642714</td>\n",
       "      <td>1.334771</td>\n",
       "      <td>2020-10-01 05:21:19+00:00</td>\n",
       "      <td>6.801627</td>\n",
       "      <td>True</td>\n",
       "      <td>XE-5565T</td>\n",
       "      <td>XE-5565T 2020-10-01</td>\n",
       "    </tr>\n",
       "  </tbody>\n",
       "</table>\n",
       "</div>"
      ],
      "text/plain": [
       "   truck_id  lat_match   lon_match         lon       lat  \\\n",
       "0  XE 5565T   1.334048  103.643252  103.643272  1.334069   \n",
       "1  XE 5565T   1.334188  103.643109  103.643047  1.334273   \n",
       "2  XE 5565T   1.334340  103.642950  103.642965  1.334356   \n",
       "3  XE 5565T   1.334502  103.642785  103.642804  1.334521   \n",
       "4  XE 5565T   1.334802  103.642673  103.642714  1.334771   \n",
       "\n",
       "                   datetime  velocity  is_speed_large vehicle_id  \\\n",
       "0 2020-10-01 05:20:47+00:00  3.700296            True   XE-5565T   \n",
       "1 2020-10-01 05:21:04+00:00  4.881020            True   XE-5565T   \n",
       "2 2020-10-01 05:21:09+00:00  5.130609            True   XE-5565T   \n",
       "3 2020-10-01 05:21:14+00:00  7.087420            True   XE-5565T   \n",
       "4 2020-10-01 05:21:19+00:00  6.801627            True   XE-5565T   \n",
       "\n",
       "               trip_id  \n",
       "0  XE-5565T 2020-10-01  \n",
       "1  XE-5565T 2020-10-01  \n",
       "2  XE-5565T 2020-10-01  \n",
       "3  XE-5565T 2020-10-01  \n",
       "4  XE-5565T 2020-10-01  "
      ]
     },
     "execution_count": 3,
     "metadata": {},
     "output_type": "execute_result"
    }
   ],
   "source": [
    "I_OUTPUT_GPS_METRICS_ANALYSIS = '/Data/Intermediate/FastMovementDetection/TrainTestFastMovementDetection.csv'\n",
    "gps = pd.read_csv(I_OUTPUT_GPS_METRICS_ANALYSIS, parse_dates=['datetime'])\n",
    "\n",
    "gps['trip_id'] = gps['vehicle_id'] + ' ' + gps['datetime'].dt.date.astype('str')\n",
    "\n",
    "gps.head()"
   ]
  },
  {
   "cell_type": "markdown",
   "id": "sunrise-kentucky",
   "metadata": {},
   "source": [
    "## Deliverable model"
   ]
  },
  {
   "cell_type": "code",
   "execution_count": 4,
   "id": "animal-viking",
   "metadata": {},
   "outputs": [
    {
     "data": {
      "text/plain": [
       "'/models/fast_movement_detector.sav'"
      ]
     },
     "execution_count": 4,
     "metadata": {},
     "output_type": "execute_result"
    }
   ],
   "source": [
    "OUTPUT_MODEL = '/models/fast_movement_detector.sav'\n",
    "OUTPUT_MODEL"
   ]
  },
  {
   "cell_type": "code",
   "execution_count": 5,
   "id": "promising-malaysia",
   "metadata": {},
   "outputs": [
    {
     "name": "stdout",
     "output_type": "stream",
     "text": [
      "README.md  fast_movement_detector.sav\r\n"
     ]
    }
   ],
   "source": [
    "!ls /models"
   ]
  },
  {
   "cell_type": "markdown",
   "id": "civil-relation",
   "metadata": {},
   "source": [
    "# Preprocessing"
   ]
  },
  {
   "cell_type": "markdown",
   "id": "exterior-flooring",
   "metadata": {},
   "source": [
    "## Feature engineering"
   ]
  },
  {
   "cell_type": "code",
   "execution_count": 6,
   "id": "explicit-attack",
   "metadata": {
    "code_folding": []
   },
   "outputs": [
    {
     "data": {
      "text/html": [
       "<div>\n",
       "<style scoped>\n",
       "    .dataframe tbody tr th:only-of-type {\n",
       "        vertical-align: middle;\n",
       "    }\n",
       "\n",
       "    .dataframe tbody tr th {\n",
       "        vertical-align: top;\n",
       "    }\n",
       "\n",
       "    .dataframe thead th {\n",
       "        text-align: right;\n",
       "    }\n",
       "</style>\n",
       "<table border=\"1\" class=\"dataframe\">\n",
       "  <thead>\n",
       "    <tr style=\"text-align: right;\">\n",
       "      <th></th>\n",
       "      <th>velocity</th>\n",
       "      <th>velocity_lag_1</th>\n",
       "      <th>velocity_lag_2</th>\n",
       "      <th>velocity_lag_3</th>\n",
       "      <th>velocity_lag_4</th>\n",
       "      <th>velocity_lag_5</th>\n",
       "      <th>is_speed_large</th>\n",
       "    </tr>\n",
       "  </thead>\n",
       "  <tbody>\n",
       "    <tr>\n",
       "      <th>0</th>\n",
       "      <td>3.700296</td>\n",
       "      <td>3.700296</td>\n",
       "      <td>3.700296</td>\n",
       "      <td>3.700296</td>\n",
       "      <td>3.700296</td>\n",
       "      <td>3.700296</td>\n",
       "      <td>True</td>\n",
       "    </tr>\n",
       "    <tr>\n",
       "      <th>1</th>\n",
       "      <td>4.881020</td>\n",
       "      <td>3.700296</td>\n",
       "      <td>3.700296</td>\n",
       "      <td>3.700296</td>\n",
       "      <td>3.700296</td>\n",
       "      <td>3.700296</td>\n",
       "      <td>True</td>\n",
       "    </tr>\n",
       "    <tr>\n",
       "      <th>2</th>\n",
       "      <td>5.130609</td>\n",
       "      <td>4.881020</td>\n",
       "      <td>3.700296</td>\n",
       "      <td>3.700296</td>\n",
       "      <td>3.700296</td>\n",
       "      <td>3.700296</td>\n",
       "      <td>True</td>\n",
       "    </tr>\n",
       "    <tr>\n",
       "      <th>3</th>\n",
       "      <td>7.087420</td>\n",
       "      <td>5.130609</td>\n",
       "      <td>4.881020</td>\n",
       "      <td>3.700296</td>\n",
       "      <td>3.700296</td>\n",
       "      <td>3.700296</td>\n",
       "      <td>True</td>\n",
       "    </tr>\n",
       "    <tr>\n",
       "      <th>4</th>\n",
       "      <td>6.801627</td>\n",
       "      <td>7.087420</td>\n",
       "      <td>5.130609</td>\n",
       "      <td>4.881020</td>\n",
       "      <td>3.700296</td>\n",
       "      <td>3.700296</td>\n",
       "      <td>True</td>\n",
       "    </tr>\n",
       "    <tr>\n",
       "      <th>...</th>\n",
       "      <td>...</td>\n",
       "      <td>...</td>\n",
       "      <td>...</td>\n",
       "      <td>...</td>\n",
       "      <td>...</td>\n",
       "      <td>...</td>\n",
       "      <td>...</td>\n",
       "    </tr>\n",
       "    <tr>\n",
       "      <th>379</th>\n",
       "      <td>13.608232</td>\n",
       "      <td>12.913178</td>\n",
       "      <td>10.618835</td>\n",
       "      <td>7.221887</td>\n",
       "      <td>7.056251</td>\n",
       "      <td>9.075022</td>\n",
       "      <td>True</td>\n",
       "    </tr>\n",
       "    <tr>\n",
       "      <th>380</th>\n",
       "      <td>8.219281</td>\n",
       "      <td>13.608232</td>\n",
       "      <td>12.913178</td>\n",
       "      <td>10.618835</td>\n",
       "      <td>7.221887</td>\n",
       "      <td>7.056251</td>\n",
       "      <td>True</td>\n",
       "    </tr>\n",
       "    <tr>\n",
       "      <th>381</th>\n",
       "      <td>2.685028</td>\n",
       "      <td>8.219281</td>\n",
       "      <td>13.608232</td>\n",
       "      <td>12.913178</td>\n",
       "      <td>10.618835</td>\n",
       "      <td>7.221887</td>\n",
       "      <td>True</td>\n",
       "    </tr>\n",
       "    <tr>\n",
       "      <th>382</th>\n",
       "      <td>2.460051</td>\n",
       "      <td>2.685028</td>\n",
       "      <td>8.219281</td>\n",
       "      <td>13.608232</td>\n",
       "      <td>12.913178</td>\n",
       "      <td>10.618835</td>\n",
       "      <td>True</td>\n",
       "    </tr>\n",
       "    <tr>\n",
       "      <th>383</th>\n",
       "      <td>4.782212</td>\n",
       "      <td>2.460051</td>\n",
       "      <td>2.685028</td>\n",
       "      <td>8.219281</td>\n",
       "      <td>13.608232</td>\n",
       "      <td>12.913178</td>\n",
       "      <td>True</td>\n",
       "    </tr>\n",
       "  </tbody>\n",
       "</table>\n",
       "<p>2962 rows × 7 columns</p>\n",
       "</div>"
      ],
      "text/plain": [
       "      velocity  velocity_lag_1  velocity_lag_2  velocity_lag_3  \\\n",
       "0     3.700296        3.700296        3.700296        3.700296   \n",
       "1     4.881020        3.700296        3.700296        3.700296   \n",
       "2     5.130609        4.881020        3.700296        3.700296   \n",
       "3     7.087420        5.130609        4.881020        3.700296   \n",
       "4     6.801627        7.087420        5.130609        4.881020   \n",
       "..         ...             ...             ...             ...   \n",
       "379  13.608232       12.913178       10.618835        7.221887   \n",
       "380   8.219281       13.608232       12.913178       10.618835   \n",
       "381   2.685028        8.219281       13.608232       12.913178   \n",
       "382   2.460051        2.685028        8.219281       13.608232   \n",
       "383   4.782212        2.460051        2.685028        8.219281   \n",
       "\n",
       "     velocity_lag_4  velocity_lag_5  is_speed_large  \n",
       "0          3.700296        3.700296            True  \n",
       "1          3.700296        3.700296            True  \n",
       "2          3.700296        3.700296            True  \n",
       "3          3.700296        3.700296            True  \n",
       "4          3.700296        3.700296            True  \n",
       "..              ...             ...             ...  \n",
       "379        7.056251        9.075022            True  \n",
       "380        7.221887        7.056251            True  \n",
       "381       10.618835        7.221887            True  \n",
       "382       12.913178       10.618835            True  \n",
       "383       13.608232       12.913178            True  \n",
       "\n",
       "[2962 rows x 7 columns]"
      ]
     },
     "execution_count": 6,
     "metadata": {},
     "output_type": "execute_result"
    }
   ],
   "source": [
    "unique_trips = gps['trip_id'].unique()\n",
    "gps_trips = list(map(lambda gps, trip: gps[gps['trip_id'] == trip], [gps]*len(unique_trips), unique_trips))\n",
    "\n",
    "\n",
    "def preprocess_trips(gps):\n",
    "    gps = gps.reset_index(drop=True)\n",
    "    gps = Polaris(gps) \\\n",
    "        .add_lag_of_column('velocity', lag_shifts=[1, 2, 3, 4, 5]) \\\n",
    "        .pandas_df_operation(func_name='fillna', columns=['velocity_lag_1', 'velocity_lag_2', 'velocity_lag_3',\n",
    "                                                          'velocity_lag_4', 'velocity_lag_5'], arguments={'method': 'bfill'}) \\\n",
    "        .select_columns(['velocity', 'velocity_lag_1', 'velocity_lag_2', 'velocity_lag_3',\n",
    "                         'velocity_lag_4', 'velocity_lag_5', 'is_speed_large']) \\\n",
    "        .df\n",
    "    return gps\n",
    "\n",
    "dataset = pd.concat(list(map(preprocess_trips, gps_trips)))\n",
    "dataset"
   ]
  },
  {
   "cell_type": "markdown",
   "id": "protective-donor",
   "metadata": {},
   "source": [
    "## X & y split"
   ]
  },
  {
   "cell_type": "code",
   "execution_count": 7,
   "id": "amazing-inclusion",
   "metadata": {},
   "outputs": [
    {
     "data": {
      "text/plain": [
       "Index(['velocity', 'velocity_lag_1', 'velocity_lag_2', 'velocity_lag_3',\n",
       "       'velocity_lag_4', 'velocity_lag_5', 'is_speed_large'],\n",
       "      dtype='object')"
      ]
     },
     "execution_count": 7,
     "metadata": {},
     "output_type": "execute_result"
    }
   ],
   "source": [
    "dataset.columns\n",
    "X = dataset[['velocity', 'velocity_lag_1', 'velocity_lag_2', 'velocity_lag_3', 'velocity_lag_4', 'velocity_lag_5']]\n",
    "y = dataset['is_speed_large']"
   ]
  },
  {
   "cell_type": "markdown",
   "id": "measured-kazakhstan",
   "metadata": {},
   "source": [
    "## Train & test split"
   ]
  },
  {
   "cell_type": "code",
   "execution_count": 8,
   "id": "emerging-temple",
   "metadata": {},
   "outputs": [],
   "source": [
    "X_train, X_test, y_train, y_test = train_test_split(X, y, test_size=0.2, random_state=42)"
   ]
  },
  {
   "cell_type": "markdown",
   "id": "olympic-filling",
   "metadata": {},
   "source": [
    "# Modeling"
   ]
  },
  {
   "cell_type": "code",
   "execution_count": 9,
   "id": "arctic-indian",
   "metadata": {},
   "outputs": [
    {
     "data": {
      "text/plain": [
       "LogisticRegression()"
      ]
     },
     "execution_count": 9,
     "metadata": {},
     "output_type": "execute_result"
    }
   ],
   "source": [
    "from sklearn.linear_model import LogisticRegression\n",
    "\n",
    "parameters = {\n",
    "}\n",
    "\n",
    "classifier = LogisticRegression(**parameters)\n",
    "classifier.fit(X_train, y_train)\n"
   ]
  },
  {
   "cell_type": "markdown",
   "id": "ethical-class",
   "metadata": {},
   "source": [
    "# Performance estimation"
   ]
  },
  {
   "cell_type": "code",
   "execution_count": 10,
   "id": "joined-trailer",
   "metadata": {},
   "outputs": [],
   "source": [
    "from sklearn.metrics import roc_auc_score\n",
    "\n",
    "\n",
    "y_pred = classifier.predict(X_test)\n",
    "HISTORY.append((parameters, roc_auc_score(y_test, y_pred)))"
   ]
  },
  {
   "cell_type": "code",
   "execution_count": 11,
   "id": "referenced-single",
   "metadata": {},
   "outputs": [
    {
     "data": {
      "text/plain": [
       "[({}, 0.9772228448678435)]"
      ]
     },
     "execution_count": 11,
     "metadata": {},
     "output_type": "execute_result"
    }
   ],
   "source": [
    "HISTORY"
   ]
  },
  {
   "cell_type": "markdown",
   "id": "developmental-pacific",
   "metadata": {},
   "source": [
    "# MODEL EXPORT"
   ]
  },
  {
   "cell_type": "code",
   "execution_count": 12,
   "id": "ahead-socket",
   "metadata": {},
   "outputs": [],
   "source": [
    "import pickle\n",
    "\n",
    "\n",
    "with open(OUTPUT_MODEL, 'wb') as file:\n",
    "    pickle.dump(classifier, file)"
   ]
  },
  {
   "cell_type": "code",
   "execution_count": 13,
   "id": "laughing-taylor",
   "metadata": {},
   "outputs": [
    {
     "data": {
      "text/plain": [
       "LogisticRegression()"
      ]
     },
     "execution_count": 13,
     "metadata": {},
     "output_type": "execute_result"
    }
   ],
   "source": [
    "classifier"
   ]
  },
  {
   "cell_type": "code",
   "execution_count": null,
   "id": "pressing-offering",
   "metadata": {},
   "outputs": [],
   "source": []
  }
 ],
 "metadata": {
  "kernelspec": {
   "display_name": "Python 3",
   "language": "python",
   "name": "python3"
  },
  "language_info": {
   "codemirror_mode": {
    "name": "ipython",
    "version": 3
   },
   "file_extension": ".py",
   "mimetype": "text/x-python",
   "name": "python",
   "nbconvert_exporter": "python",
   "pygments_lexer": "ipython3",
   "version": "3.8.5"
  },
  "varInspector": {
   "cols": {
    "lenName": 16,
    "lenType": 16,
    "lenVar": 40
   },
   "kernels_config": {
    "python": {
     "delete_cmd_postfix": "",
     "delete_cmd_prefix": "del ",
     "library": "var_list.py",
     "varRefreshCmd": "print(var_dic_list())"
    },
    "r": {
     "delete_cmd_postfix": ") ",
     "delete_cmd_prefix": "rm(",
     "library": "var_list.r",
     "varRefreshCmd": "cat(var_dic_list()) "
    }
   },
   "oldHeight": 122.72736400000001,
   "position": {
    "height": "40px",
    "left": "1475.45px",
    "right": "20px",
    "top": "120px",
    "width": "250px"
   },
   "types_to_exclude": [
    "module",
    "function",
    "builtin_function_or_method",
    "instance",
    "_Feature"
   ],
   "varInspector_section_display": "none",
   "window_display": false
  }
 },
 "nbformat": 4,
 "nbformat_minor": 5
}
