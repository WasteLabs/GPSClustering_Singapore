{
 "cells": [
  {
   "cell_type": "markdown",
   "metadata": {},
   "source": [
    "# Given notebook performs performance estimation of first DBSCAN\n",
    "* **fp**\tFalse positive: Amount of clusters not having any RFID records\n",
    "* **fn**\tFalse negative: Amount of RFID not belong to any cluster\n",
    "* **tp**\tTrue positive: Amount of RFID having cluster id\n",
    "* **RFID_coverage_rate**\ttp/(fp+fn+tp)"
   ]
  },
  {
   "cell_type": "code",
   "execution_count": 9,
   "metadata": {},
   "outputs": [],
   "source": [
    "import os\n",
    "import numpy as np\n",
    "import pandas as pd\n",
    "import pymongo\n",
    "from sklearn.cluster import DBSCAN\n",
    "import plotly.express as px\n",
    "import geopandas as gpd\n",
    "from multiprocessing import Pool\n",
    "from ClusteringPipeline import do_clustering\n",
    "from IPython.core.interactiveshell import InteractiveShell\n",
    "InteractiveShell.ast_node_interactivity = 'all'\n",
    "\n",
    "# SELECTED good candidates\n",
    "candidates = pd.read_csv('/Data/Intermediate/MapMatchingReports/GOOD_RFID_ACTIVATIONS.csv')\n",
    "\n",
    "OCTOBER_RFID = '/Data/Source/RFID/RFID_october.csv'\n",
    "\n",
    "# SOURCE files paths\n",
    "SOURCE_GPS_DIR = '/Data/Source/GoodGPSCandidates/'\n",
    "FILES = os.listdir(SOURCE_GPS_DIR)\n",
    "SOURCE_GPS_PATHS = list(map(lambda x,y: x+y, [SOURCE_GPS_DIR]*len(FILES), FILES))\n",
    "\n",
    "# ML models paths\n",
    "IS_MOVING = os.getcwd()+'/ClusteringPipeline/MachineLearningModels/logreg_1.sav'\n",
    "SPEED_REHAB_MODEL = os.getcwd()+'/ClusteringPipeline/MachineLearningModels/reg_rehab_speed_1.sav'\n",
    "\n",
    "# DBSCAN parameters\n",
    "MIN_SAMPLES = 15\n",
    "EPS = 130\n",
    "MIN_POINT_AMT_RFID = 1\n",
    "\n",
    "# PERFORMANCE FOLDER:\n",
    "RFID_GPS_MERGE_DIR = '/Data/Outputs/GPS_Clusters/'"
   ]
  },
  {
   "cell_type": "markdown",
   "metadata": {},
   "source": [
    "## 1. Setup clustering"
   ]
  },
  {
   "cell_type": "code",
   "execution_count": 10,
   "metadata": {},
   "outputs": [],
   "source": [
    "def read_data(args):\n",
    "    args['gps'] = pd.read_csv(args['source_path'], parse_dates=['time'])\n",
    "    args['gps'] = args['gps'].loc[~args['gps'].unixtime.duplicated(keep='last'), :] \\\n",
    "        .reset_index(drop=True).copy()\n",
    "    args['gps'].truck_id = args['gps'].truck_id.str.replace(' ', '-')\n",
    "    return args\n",
    "\n",
    "\n",
    "def clusterize(args):\n",
    "    results = do_clustering(args['gps'], min_samples=args['min_samples'],\n",
    "                       eps=args['eps'],\n",
    "                       is_moving_log_reg_path = args['is_moving_log_reg_path'],\n",
    "                       speed_rehab_model_path = args['speed_rehab_model_path'],\n",
    "                       fname = args['fname'])\n",
    "    args['gps'] = results['df'].copy()\n",
    "    del results\n",
    "    return args\n",
    "\n",
    "\n",
    "def export_clustered_gps(args):\n",
    "    fpath = args['merge_dir'] + args['fname']\n",
    "    args['gps'].to_csv(fpath, index=False)\n",
    "    del args\n",
    "\n",
    "def score(args):\n",
    "\n",
    "    PIPELINE = [\n",
    "        read_data,\n",
    "        clusterize,\n",
    "        export_clustered_gps,\n",
    "    ]\n",
    "    \n",
    "    fname = args['source_path'].rsplit('/', 1)[1]\n",
    "    \n",
    "    for func in PIPELINE:\n",
    "        args = func(args)\n",
    "    print(f\"{fname}: is done!\")\n",
    "    return args"
   ]
  },
  {
   "cell_type": "markdown",
   "metadata": {},
   "source": [
    "## Arguments preparation"
   ]
  },
  {
   "cell_type": "code",
   "execution_count": 11,
   "metadata": {},
   "outputs": [],
   "source": [
    "N_ARGS = len(SOURCE_GPS_PATHS)\n",
    "args = list(map(lambda src_path, # read_data\n",
    "                min_samples, eps, is_moving_log_reg_path, # DBSCAN\n",
    "                speed_rehab_model_path, fname, # DBSCAN\n",
    "                merge_dir:  \n",
    "                {\n",
    "                    'source_path': src_path,\n",
    "                    'min_samples': min_samples,\n",
    "                    'eps': eps,\n",
    "                    'is_moving_log_reg_path': is_moving_log_reg_path,\n",
    "                    'speed_rehab_model_path': speed_rehab_model_path,\n",
    "                    'fname': fname,\n",
    "                    \n",
    "                    'merge_dir': merge_dir\n",
    "                },\n",
    "                SOURCE_GPS_PATHS,\n",
    "                [MIN_SAMPLES]*N_ARGS,\n",
    "                [EPS]*N_ARGS,\n",
    "                [IS_MOVING]*N_ARGS,\n",
    "                [SPEED_REHAB_MODEL]*N_ARGS,\n",
    "                FILES,\n",
    "                [RFID_GPS_MERGE_DIR]*N_ARGS\n",
    "               ))"
   ]
  },
  {
   "cell_type": "code",
   "execution_count": 12,
   "metadata": {
    "scrolled": true
   },
   "outputs": [
    {
     "name": "stdout",
     "output_type": "stream",
     "text": [
      "XE-5598Z_2020-10-30.csv: is done!\n",
      "XE-5620S_2020-10-22.csv: is done!\n",
      "XE-5612R_2020-10-22.csv: is done!\n",
      "XE-5598Z_2020-10-7.csv: is done!\n",
      "XE-5612R_2020-10-30.csv: is done!\n",
      "XE-5612R_2020-10-7.csv: is done!\n",
      "XE-5630M_2020-10-22.csv: is done!\n",
      "XE-5680T_2020-10-7.csv: is done!\n",
      "XE-5620S_2020-10-30.csv: is done!\n",
      "XE-5628X_2020-10-30.csv: is done!\n",
      "XE-5598Z_2020-10-22.csv: is done!\n",
      "XE-5630M_2020-10-30.csv: is done!\n",
      "XE-5705G_2020-10-30.csv: is done!\n",
      "CPU times: user 42.7 ms, sys: 29.4 ms, total: 72.1 ms\n",
      "Wall time: 4.29 s\n"
     ]
    }
   ],
   "source": [
    "%%time\n",
    "with Pool(5) as pool:\n",
    "    outputs = pool.starmap(score, zip(args))"
   ]
  }
 ],
 "metadata": {
  "kernelspec": {
   "display_name": "Python 3",
   "language": "python",
   "name": "python3"
  },
  "language_info": {
   "codemirror_mode": {
    "name": "ipython",
    "version": 3
   },
   "file_extension": ".py",
   "mimetype": "text/x-python",
   "name": "python",
   "nbconvert_exporter": "python",
   "pygments_lexer": "ipython3",
   "version": "3.8.2"
  }
 },
 "nbformat": 4,
 "nbformat_minor": 4
}
