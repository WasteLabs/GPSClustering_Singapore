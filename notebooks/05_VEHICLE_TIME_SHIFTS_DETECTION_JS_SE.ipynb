{
 "cells": [
  {
   "cell_type": "markdown",
   "metadata": {
    "extensions": {
     "jupyter_dashboards": {
      "version": 1,
      "views": {
       "default_view": {
        "col": 0,
        "height": 2,
        "hidden": false,
        "row": 0,
        "width": 12
       }
      }
     }
    }
   },
   "source": [
    "# About\n",
    "In notebook 04, we've found that time shifts are different for different type of trucks.\n",
    "So, in this notebook i'll try to detect time shifts for different trucks and routes"
   ]
  },
  {
   "cell_type": "code",
   "execution_count": 1,
   "metadata": {
    "extensions": {
     "jupyter_dashboards": {
      "version": 1,
      "views": {
       "default_view": {
        "hidden": true
       }
      }
     }
    }
   },
   "outputs": [],
   "source": [
    "import os\n",
    "import numpy as np\n",
    "import pandas as pd\n",
    "import logging\n",
    "from shapely.geometry import Point\n",
    "import plotly.express as px\n",
    "import geopandas as gpd\n",
    "import plotly.express as px\n",
    "from multiprocessing import Pool\n",
    "from scipy.stats import zscore\n",
    "from GPSOdyssey import Polaris, Kepler, Void, Vega\n",
    "from IPython.core.interactiveshell import InteractiveShell\n",
    "InteractiveShell.ast_node_interactivity = 'all'"
   ]
  },
  {
   "cell_type": "markdown",
   "metadata": {
    "extensions": {
     "jupyter_dashboards": {
      "version": 1,
      "views": {
       "default_view": {
        "col": 0,
        "height": 9,
        "hidden": false,
        "row": 2,
        "width": 12
       }
      }
     }
    }
   },
   "source": [
    "## Time shifts\n",
    "\n",
    "* RFID: by default client provides time shifts in +08:00\n",
    "* GPS: Different for different trucks"
   ]
  },
  {
   "cell_type": "code",
   "execution_count": 2,
   "metadata": {
    "extensions": {
     "jupyter_dashboards": {
      "version": 1,
      "views": {
       "default_view": {
        "hidden": true
       }
      }
     }
    }
   },
   "outputs": [],
   "source": [
    "def generate_trip_id(gps):\n",
    "    gps['trip_id'] = gps['date'].astype('str') + ' ' + gps['vehicle_id']\n",
    "    return gps\n",
    "\n",
    "def generate_point_id(gps):\n",
    "    gps['point_id'] = gps['datetime'].astype('str') + ' ' + gps['vehicle_id']\n",
    "    return gps"
   ]
  },
  {
   "cell_type": "markdown",
   "metadata": {
    "extensions": {
     "jupyter_dashboards": {
      "version": 1,
      "views": {
       "default_view": {
        "col": 0,
        "height": 2,
        "hidden": false,
        "row": 11,
        "width": 12
       }
      }
     }
    }
   },
   "source": [
    "## Data"
   ]
  },
  {
   "cell_type": "markdown",
   "metadata": {
    "extensions": {
     "jupyter_dashboards": {
      "version": 1,
      "views": {
       "default_view": {
        "col": 0,
        "height": 2,
        "hidden": false,
        "row": 13,
        "width": 12
       }
      }
     }
    }
   },
   "source": [
    "### Map matching report"
   ]
  },
  {
   "cell_type": "code",
   "execution_count": 3,
   "metadata": {
    "extensions": {
     "jupyter_dashboards": {
      "version": 1,
      "views": {
       "default_view": {
        "hidden": true
       }
      }
     }
    }
   },
   "outputs": [],
   "source": [
    "map_matching_report = pd.read_csv('/Data/Intermediate/MapMatchingReports/MapMatching_october2020.csv')\n",
    "\n",
    "map_matching_report = Polaris(map_matching_report) \\\n",
    "    .pandas_df_operation(func_name='rename', arguments={'columns': {'truck_id': 'vehicle_id'}}).df\n",
    "\n",
    "map_matching_report['vehicle_id'] = map_matching_report['vehicle_id'].str.replace(' ', '-')"
   ]
  },
  {
   "cell_type": "markdown",
   "metadata": {
    "extensions": {
     "jupyter_dashboards": {
      "version": 1,
      "views": {
       "default_view": {
        "col": 0,
        "height": 2,
        "hidden": false,
        "row": 15,
        "width": 12
       }
      }
     }
    }
   },
   "source": [
    "### 1. Route vehicle assignment"
   ]
  },
  {
   "cell_type": "code",
   "execution_count": 5,
   "metadata": {
    "extensions": {
     "jupyter_dashboards": {
      "version": 1,
      "views": {
       "default_view": {
        "hidden": true
       }
      }
     }
    }
   },
   "outputs": [
    {
     "data": {
      "text/html": [
       "<div>\n",
       "<style scoped>\n",
       "    .dataframe tbody tr th:only-of-type {\n",
       "        vertical-align: middle;\n",
       "    }\n",
       "\n",
       "    .dataframe tbody tr th {\n",
       "        vertical-align: top;\n",
       "    }\n",
       "\n",
       "    .dataframe thead th {\n",
       "        text-align: right;\n",
       "    }\n",
       "</style>\n",
       "<table border=\"1\" class=\"dataframe\">\n",
       "  <thead>\n",
       "    <tr style=\"text-align: right;\">\n",
       "      <th></th>\n",
       "      <th>route_type</th>\n",
       "      <th>vehicle_id</th>\n",
       "    </tr>\n",
       "  </thead>\n",
       "  <tbody>\n",
       "    <tr>\n",
       "      <th>0</th>\n",
       "      <td>JS-SE</td>\n",
       "      <td>XE-5638S</td>\n",
       "    </tr>\n",
       "    <tr>\n",
       "      <th>0</th>\n",
       "      <td>JS-SE</td>\n",
       "      <td>XE-5577J</td>\n",
       "    </tr>\n",
       "    <tr>\n",
       "      <th>0</th>\n",
       "      <td>JS-SE</td>\n",
       "      <td>XE-5629T</td>\n",
       "    </tr>\n",
       "  </tbody>\n",
       "</table>\n",
       "</div>"
      ],
      "text/plain": [
       "  route_type vehicle_id\n",
       "0      JS-SE   XE-5638S\n",
       "0      JS-SE   XE-5577J\n",
       "0      JS-SE   XE-5629T"
      ]
     },
     "execution_count": 5,
     "metadata": {},
     "output_type": "execute_result"
    }
   ],
   "source": [
    "I_ROUTE_VEHICLE_ASSIGNMENT = '/Data/Intermediate/assignments/route_vehicle_assignments_october.csv'\n",
    "\n",
    "route_vehic_assign = pd.read_csv(I_ROUTE_VEHICLE_ASSIGNMENT)\n",
    "route_vehic_assign = route_vehic_assign[route_vehic_assign['route_type'] == 'JS-SE'] \\\n",
    "    .groupby(['route_type']).agg({'vehicle_id': 'unique'}).reset_index()\n",
    "\n",
    "route_vehic_assign = route_vehic_assign.explode('vehicle_id')\n",
    "route_vehic_assign"
   ]
  },
  {
   "cell_type": "markdown",
   "metadata": {
    "extensions": {
     "jupyter_dashboards": {
      "version": 1,
      "views": {
       "default_view": {
        "col": 0,
        "height": 2,
        "hidden": false,
        "row": 17,
        "width": 12
       }
      }
     }
    }
   },
   "source": [
    "### 2. RFID"
   ]
  },
  {
   "cell_type": "code",
   "execution_count": 5,
   "metadata": {
    "extensions": {
     "jupyter_dashboards": {
      "version": 1,
      "views": {
       "default_view": {
        "hidden": true
       }
      }
     }
    }
   },
   "outputs": [],
   "source": [
    "S_RFID_OCTOBER = '/Data/Source/RFID/RFID_october.csv'\n",
    "\n",
    "\n",
    "rfid = pd.read_csv(S_RFID_OCTOBER)\n",
    "rfid['is_rfid_active'] = True\n",
    "\n",
    "RFID_COLUMNS = ['date', 'time', 'unixtime', 'vehicle_id',\n",
    "                'RFID', 'is_rfid_active', 'Latitude', 'Longitude']\n",
    "rfid = rfid.loc[:, RFID_COLUMNS]\n",
    "rfid.columns = [str(x).lower() for x in rfid.columns]\n",
    "\n",
    "rfid = rfid.sort_values(by='unixtime')\n",
    "rfid['datetime'] = rfid['date'] + ' ' + rfid['time']\n",
    "\n",
    "\n",
    "rfid = generate_trip_id(rfid)\n",
    "rfid = generate_point_id(rfid)"
   ]
  },
  {
   "cell_type": "code",
   "execution_count": 6,
   "metadata": {},
   "outputs": [],
   "source": [
    "# Select all RFID of JS SE\n",
    "rfid = rfid.merge(route_vehic_assign[['vehicle_id']],\n",
    "           on='vehicle_id', how='inner')"
   ]
  },
  {
   "cell_type": "markdown",
   "metadata": {
    "extensions": {
     "jupyter_dashboards": {
      "version": 1,
      "views": {
       "default_view": {
        "col": 0,
        "height": 2,
        "hidden": false,
        "row": 21,
        "width": 12
       }
      }
     }
    }
   },
   "source": [
    "### 3. GPS"
   ]
  },
  {
   "cell_type": "code",
   "execution_count": 7,
   "metadata": {
    "extensions": {
     "jupyter_dashboards": {
      "version": 1,
      "views": {
       "default_view": {
        "col": 0,
        "height": 2,
        "hidden": false,
        "row": 23,
        "width": 12
       }
      }
     }
    }
   },
   "outputs": [],
   "source": [
    "map_matching_report = map_matching_report.merge(route_vehic_assign[['vehicle_id']],\n",
    "                          on=['vehicle_id'], how='inner')"
   ]
  },
  {
   "cell_type": "code",
   "execution_count": 8,
   "metadata": {
    "extensions": {
     "jupyter_dashboards": {
      "version": 1,
      "views": {
       "default_view": {
        "col": 0,
        "height": 2,
        "hidden": false,
        "row": 25,
        "width": 12
       }
      }
     }
    }
   },
   "outputs": [
    {
     "name": "stdout",
     "output_type": "stream",
     "text": [
      "CPU times: user 11.8 s, sys: 348 ms, total: 12.1 s\n",
      "Wall time: 12.3 s\n"
     ]
    }
   ],
   "source": [
    "%%time\n",
    "S_CLUSTERED_GPS = '/Data/Source/OctoberGPS/'\n",
    "\n",
    "\n",
    "vega = Vega(engine='pandas')\n",
    "gps = vega.read_from_dir(directory=S_CLUSTERED_GPS,\n",
    "                         file_extensions='.csv',\n",
    "                         args={'parse_dates': ['time']},\n",
    "                         concatenate=True, amt_in_parallel=6,\n",
    "                         filenames=map_matching_report['csv_file'])\n",
    "\n",
    "\n",
    "gps = Polaris(gps) \\\n",
    "    .select_columns(['truck_id', 'lon', 'lat', 'time', 'lon_match', 'lat_match']) \\\n",
    "    .pandas_df_operation(func_name='rename', arguments={'columns': {'truck_id': 'vehicle_id', 'time': 'datetime'}}) \\\n",
    "    .construct_datetime(datetime='datetime', offset='-02:00') \\\n",
    "    .remove_tz(time_col='datetime') \\\n",
    "    .add_date_col('datetime', 'date') \\\n",
    "    .add_time_col('datetime', 'time') \\\n",
    "    .add_unixtime('datetime', 'unixtime') \\\n",
    "    .df\n",
    "\n",
    "gps = generate_trip_id(gps)\n",
    "gps = generate_point_id(gps)\n",
    "gps['unixtime'] = gps['unixtime'].astype('int')"
   ]
  },
  {
   "cell_type": "markdown",
   "metadata": {},
   "source": [
    "# 4. RFID -> GPS"
   ]
  },
  {
   "cell_type": "code",
   "execution_count": 9,
   "metadata": {},
   "outputs": [],
   "source": [
    "gps['datetime'] = gps['datetime'].astype('str')\n",
    "rfid['datetime'] = rfid['datetime'].astype('str')"
   ]
  },
  {
   "cell_type": "code",
   "execution_count": 10,
   "metadata": {},
   "outputs": [],
   "source": [
    "gps_m = gps.merge(rfid[['rfid', 'vehicle_id', 'datetime', 'unixtime',\n",
    "                        'is_rfid_active', 'latitude', 'longitude']],\n",
    "                  on=['vehicle_id', 'datetime'], how='outer')\n",
    "\n",
    "gps_m['is_overlap'] = gps_m['lat_match'].isna()\n",
    "gps_m.sort_values(['vehicle_id', 'datetime'], inplace=True)\n",
    "\n",
    "cols2fill = ['lon', 'lat', 'time', 'vehicle_id', 'date', 'datetime', 'time',\n",
    "             'unixtime_x', 'lon_match', 'lat_match', 'trip_id', 'point_id']\n",
    "gps_m[cols2fill] = gps_m[cols2fill].fillna(method='ffill')\n",
    "\n",
    "gps_m['is_rfid_active'] = ~gps_m['rfid'].isna()"
   ]
  },
  {
   "cell_type": "code",
   "execution_count": 11,
   "metadata": {},
   "outputs": [],
   "source": [
    "gps_m[['latitude', 'longitude']] = gps_m[['latitude', 'longitude']].astype('float', errors='ignore')"
   ]
  },
  {
   "cell_type": "code",
   "execution_count": 12,
   "metadata": {},
   "outputs": [],
   "source": [
    "gps_m = gps_m[~gps_m['rfid'].isna()]\n"
   ]
  },
  {
   "cell_type": "code",
   "execution_count": 13,
   "metadata": {},
   "outputs": [
    {
     "data": {
      "text/html": [
       "<div>\n",
       "<style scoped>\n",
       "    .dataframe tbody tr th:only-of-type {\n",
       "        vertical-align: middle;\n",
       "    }\n",
       "\n",
       "    .dataframe tbody tr th {\n",
       "        vertical-align: top;\n",
       "    }\n",
       "\n",
       "    .dataframe thead th {\n",
       "        text-align: right;\n",
       "    }\n",
       "</style>\n",
       "<table border=\"1\" class=\"dataframe\">\n",
       "  <thead>\n",
       "    <tr style=\"text-align: right;\">\n",
       "      <th></th>\n",
       "      <th>vehicle_id</th>\n",
       "      <th>lon</th>\n",
       "      <th>lat</th>\n",
       "      <th>datetime</th>\n",
       "      <th>lon_match</th>\n",
       "      <th>lat_match</th>\n",
       "      <th>date</th>\n",
       "      <th>time</th>\n",
       "      <th>unixtime</th>\n",
       "      <th>trip_id</th>\n",
       "      <th>point_id</th>\n",
       "    </tr>\n",
       "  </thead>\n",
       "  <tbody>\n",
       "    <tr>\n",
       "      <th>0</th>\n",
       "      <td>XE 5638S</td>\n",
       "      <td>103.648211</td>\n",
       "      <td>1.330482</td>\n",
       "      <td>2020-10-30 08:16:07</td>\n",
       "      <td>103.648069</td>\n",
       "      <td>1.33034</td>\n",
       "      <td>2020-10-30</td>\n",
       "      <td>08:16:07</td>\n",
       "      <td>1604045767</td>\n",
       "      <td>2020-10-30 XE 5638S</td>\n",
       "      <td>2020-10-30 08:16:07 XE 5638S</td>\n",
       "    </tr>\n",
       "    <tr>\n",
       "      <th>1</th>\n",
       "      <td>XE 5638S</td>\n",
       "      <td>103.648185</td>\n",
       "      <td>1.330485</td>\n",
       "      <td>2020-10-30 08:16:12</td>\n",
       "      <td>103.648069</td>\n",
       "      <td>1.33034</td>\n",
       "      <td>2020-10-30</td>\n",
       "      <td>08:16:12</td>\n",
       "      <td>1604045772</td>\n",
       "      <td>2020-10-30 XE 5638S</td>\n",
       "      <td>2020-10-30 08:16:12 XE 5638S</td>\n",
       "    </tr>\n",
       "    <tr>\n",
       "      <th>2</th>\n",
       "      <td>XE 5638S</td>\n",
       "      <td>103.648161</td>\n",
       "      <td>1.330488</td>\n",
       "      <td>2020-10-30 08:16:17</td>\n",
       "      <td>103.648069</td>\n",
       "      <td>1.33034</td>\n",
       "      <td>2020-10-30</td>\n",
       "      <td>08:16:17</td>\n",
       "      <td>1604045777</td>\n",
       "      <td>2020-10-30 XE 5638S</td>\n",
       "      <td>2020-10-30 08:16:17 XE 5638S</td>\n",
       "    </tr>\n",
       "    <tr>\n",
       "      <th>3</th>\n",
       "      <td>XE 5638S</td>\n",
       "      <td>103.648122</td>\n",
       "      <td>1.330515</td>\n",
       "      <td>2020-10-30 08:16:23</td>\n",
       "      <td>103.648069</td>\n",
       "      <td>1.33034</td>\n",
       "      <td>2020-10-30</td>\n",
       "      <td>08:16:23</td>\n",
       "      <td>1604045783</td>\n",
       "      <td>2020-10-30 XE 5638S</td>\n",
       "      <td>2020-10-30 08:16:23 XE 5638S</td>\n",
       "    </tr>\n",
       "    <tr>\n",
       "      <th>4</th>\n",
       "      <td>XE 5638S</td>\n",
       "      <td>103.648069</td>\n",
       "      <td>1.330520</td>\n",
       "      <td>2020-10-30 08:16:29</td>\n",
       "      <td>103.647979</td>\n",
       "      <td>1.33043</td>\n",
       "      <td>2020-10-30</td>\n",
       "      <td>08:16:29</td>\n",
       "      <td>1604045789</td>\n",
       "      <td>2020-10-30 XE 5638S</td>\n",
       "      <td>2020-10-30 08:16:29 XE 5638S</td>\n",
       "    </tr>\n",
       "    <tr>\n",
       "      <th>...</th>\n",
       "      <td>...</td>\n",
       "      <td>...</td>\n",
       "      <td>...</td>\n",
       "      <td>...</td>\n",
       "      <td>...</td>\n",
       "      <td>...</td>\n",
       "      <td>...</td>\n",
       "      <td>...</td>\n",
       "      <td>...</td>\n",
       "      <td>...</td>\n",
       "      <td>...</td>\n",
       "    </tr>\n",
       "    <tr>\n",
       "      <th>630507</th>\n",
       "      <td>XE 5629T</td>\n",
       "      <td>103.648240</td>\n",
       "      <td>1.330482</td>\n",
       "      <td>2020-10-05 17:55:40</td>\n",
       "      <td>103.648289</td>\n",
       "      <td>1.33012</td>\n",
       "      <td>2020-10-05</td>\n",
       "      <td>17:55:40</td>\n",
       "      <td>1601920540</td>\n",
       "      <td>2020-10-05 XE 5629T</td>\n",
       "      <td>2020-10-05 17:55:40 XE 5629T</td>\n",
       "    </tr>\n",
       "    <tr>\n",
       "      <th>630508</th>\n",
       "      <td>XE 5629T</td>\n",
       "      <td>103.648241</td>\n",
       "      <td>1.330485</td>\n",
       "      <td>2020-10-05 17:55:46</td>\n",
       "      <td>103.648289</td>\n",
       "      <td>1.33012</td>\n",
       "      <td>2020-10-05</td>\n",
       "      <td>17:55:46</td>\n",
       "      <td>1601920546</td>\n",
       "      <td>2020-10-05 XE 5629T</td>\n",
       "      <td>2020-10-05 17:55:46 XE 5629T</td>\n",
       "    </tr>\n",
       "    <tr>\n",
       "      <th>630509</th>\n",
       "      <td>XE 5629T</td>\n",
       "      <td>103.648241</td>\n",
       "      <td>1.330487</td>\n",
       "      <td>2020-10-05 17:55:52</td>\n",
       "      <td>103.648289</td>\n",
       "      <td>1.33012</td>\n",
       "      <td>2020-10-05</td>\n",
       "      <td>17:55:52</td>\n",
       "      <td>1601920552</td>\n",
       "      <td>2020-10-05 XE 5629T</td>\n",
       "      <td>2020-10-05 17:55:52 XE 5629T</td>\n",
       "    </tr>\n",
       "    <tr>\n",
       "      <th>630510</th>\n",
       "      <td>XE 5629T</td>\n",
       "      <td>103.648241</td>\n",
       "      <td>1.330490</td>\n",
       "      <td>2020-10-05 17:55:58</td>\n",
       "      <td>103.648289</td>\n",
       "      <td>1.33012</td>\n",
       "      <td>2020-10-05</td>\n",
       "      <td>17:55:58</td>\n",
       "      <td>1601920558</td>\n",
       "      <td>2020-10-05 XE 5629T</td>\n",
       "      <td>2020-10-05 17:55:58 XE 5629T</td>\n",
       "    </tr>\n",
       "    <tr>\n",
       "      <th>630511</th>\n",
       "      <td>XE 5629T</td>\n",
       "      <td>103.648242</td>\n",
       "      <td>1.330494</td>\n",
       "      <td>2020-10-05 17:56:04</td>\n",
       "      <td>103.648289</td>\n",
       "      <td>1.33012</td>\n",
       "      <td>2020-10-05</td>\n",
       "      <td>17:56:04</td>\n",
       "      <td>1601920564</td>\n",
       "      <td>2020-10-05 XE 5629T</td>\n",
       "      <td>2020-10-05 17:56:04 XE 5629T</td>\n",
       "    </tr>\n",
       "  </tbody>\n",
       "</table>\n",
       "<p>630512 rows × 11 columns</p>\n",
       "</div>"
      ],
      "text/plain": [
       "       vehicle_id         lon       lat             datetime   lon_match  \\\n",
       "0        XE 5638S  103.648211  1.330482  2020-10-30 08:16:07  103.648069   \n",
       "1        XE 5638S  103.648185  1.330485  2020-10-30 08:16:12  103.648069   \n",
       "2        XE 5638S  103.648161  1.330488  2020-10-30 08:16:17  103.648069   \n",
       "3        XE 5638S  103.648122  1.330515  2020-10-30 08:16:23  103.648069   \n",
       "4        XE 5638S  103.648069  1.330520  2020-10-30 08:16:29  103.647979   \n",
       "...           ...         ...       ...                  ...         ...   \n",
       "630507   XE 5629T  103.648240  1.330482  2020-10-05 17:55:40  103.648289   \n",
       "630508   XE 5629T  103.648241  1.330485  2020-10-05 17:55:46  103.648289   \n",
       "630509   XE 5629T  103.648241  1.330487  2020-10-05 17:55:52  103.648289   \n",
       "630510   XE 5629T  103.648241  1.330490  2020-10-05 17:55:58  103.648289   \n",
       "630511   XE 5629T  103.648242  1.330494  2020-10-05 17:56:04  103.648289   \n",
       "\n",
       "        lat_match        date      time    unixtime              trip_id  \\\n",
       "0         1.33034  2020-10-30  08:16:07  1604045767  2020-10-30 XE 5638S   \n",
       "1         1.33034  2020-10-30  08:16:12  1604045772  2020-10-30 XE 5638S   \n",
       "2         1.33034  2020-10-30  08:16:17  1604045777  2020-10-30 XE 5638S   \n",
       "3         1.33034  2020-10-30  08:16:23  1604045783  2020-10-30 XE 5638S   \n",
       "4         1.33043  2020-10-30  08:16:29  1604045789  2020-10-30 XE 5638S   \n",
       "...           ...         ...       ...         ...                  ...   \n",
       "630507    1.33012  2020-10-05  17:55:40  1601920540  2020-10-05 XE 5629T   \n",
       "630508    1.33012  2020-10-05  17:55:46  1601920546  2020-10-05 XE 5629T   \n",
       "630509    1.33012  2020-10-05  17:55:52  1601920552  2020-10-05 XE 5629T   \n",
       "630510    1.33012  2020-10-05  17:55:58  1601920558  2020-10-05 XE 5629T   \n",
       "630511    1.33012  2020-10-05  17:56:04  1601920564  2020-10-05 XE 5629T   \n",
       "\n",
       "                            point_id  \n",
       "0       2020-10-30 08:16:07 XE 5638S  \n",
       "1       2020-10-30 08:16:12 XE 5638S  \n",
       "2       2020-10-30 08:16:17 XE 5638S  \n",
       "3       2020-10-30 08:16:23 XE 5638S  \n",
       "4       2020-10-30 08:16:29 XE 5638S  \n",
       "...                              ...  \n",
       "630507  2020-10-05 17:55:40 XE 5629T  \n",
       "630508  2020-10-05 17:55:46 XE 5629T  \n",
       "630509  2020-10-05 17:55:52 XE 5629T  \n",
       "630510  2020-10-05 17:55:58 XE 5629T  \n",
       "630511  2020-10-05 17:56:04 XE 5629T  \n",
       "\n",
       "[630512 rows x 11 columns]"
      ]
     },
     "execution_count": 13,
     "metadata": {},
     "output_type": "execute_result"
    }
   ],
   "source": [
    "gps"
   ]
  },
  {
   "cell_type": "markdown",
   "metadata": {
    "extensions": {
     "jupyter_dashboards": {
      "version": 1,
      "views": {
       "default_view": {
        "col": 0,
        "height": 2,
        "hidden": false,
        "row": 27,
        "width": 12
       }
      }
     }
    }
   },
   "source": [
    "# 4. Visualization"
   ]
  },
  {
   "cell_type": "code",
   "execution_count": 14,
   "metadata": {
    "extensions": {
     "jupyter_dashboards": {
      "version": 1,
      "views": {
       "default_view": {
        "col": 0,
        "height": 2,
        "hidden": false,
        "row": 29,
        "width": 12
       }
      }
     }
    }
   },
   "outputs": [
    {
     "name": "stdout",
     "output_type": "stream",
     "text": [
      "User Guide: https://docs.kepler.gl/docs/keplergl-jupyter\n"
     ]
    },
    {
     "data": {
      "application/vnd.jupyter.widget-view+json": {
       "model_id": "57bd9d1a5856437eaff1ba82cde9bd53",
       "version_major": 2,
       "version_minor": 0
      },
      "text/plain": [
       "KeplerGl(config={'version': 'v1', 'config': {'visState': {'filters': [{'dataId': ['rfid'], 'id': 'dqcbs7kgb', …"
      ]
     },
     "metadata": {},
     "output_type": "display_data"
    }
   ],
   "source": [
    "MAP_CONF_PATH = 'MAP_CONFIGS/05_TIME_SHIFT_ANALYSIS_1.json'\n",
    "\n",
    "kepler = Kepler(data={'rfid': rfid, 'gps': gps}, height=800,\n",
    "                config_path=MAP_CONF_PATH)\n",
    "kepler.render_kepler_map()\n",
    "kepler.get_rendered_map()"
   ]
  },
  {
   "cell_type": "code",
   "execution_count": 15,
   "metadata": {},
   "outputs": [
    {
     "name": "stderr",
     "output_type": "stream",
     "text": [
      "WARNING:root:File already exists and will be over-written.\n"
     ]
    }
   ],
   "source": [
    "kepler.save_map_config(path=MAP_CONF_PATH, overwrite_config=True)"
   ]
  },
  {
   "cell_type": "code",
   "execution_count": 16,
   "metadata": {},
   "outputs": [],
   "source": [
    "# kepler.save_map_to_html_local('time_shifts_of_same_vehicle.html', overwrite_html=True)"
   ]
  },
  {
   "cell_type": "markdown",
   "metadata": {
    "extensions": {
     "jupyter_dashboards": {
      "version": 1,
      "views": {
       "default_view": {
        "col": 0,
        "height": 2,
        "hidden": false,
        "row": 31,
        "width": 12
       }
      }
     }
    }
   },
   "source": [
    "# 5. Time shifts\n",
    "\n",
    "RFID - GPS"
   ]
  },
  {
   "cell_type": "code",
   "execution_count": 17,
   "metadata": {},
   "outputs": [
    {
     "data": {
      "text/html": [
       "<div>\n",
       "<style scoped>\n",
       "    .dataframe tbody tr th:only-of-type {\n",
       "        vertical-align: middle;\n",
       "    }\n",
       "\n",
       "    .dataframe tbody tr th {\n",
       "        vertical-align: top;\n",
       "    }\n",
       "\n",
       "    .dataframe thead th {\n",
       "        text-align: right;\n",
       "    }\n",
       "</style>\n",
       "<table border=\"1\" class=\"dataframe\">\n",
       "  <thead>\n",
       "    <tr style=\"text-align: right;\">\n",
       "      <th></th>\n",
       "      <th>route_type</th>\n",
       "      <th>vehicle_id</th>\n",
       "    </tr>\n",
       "  </thead>\n",
       "  <tbody>\n",
       "    <tr>\n",
       "      <th>0</th>\n",
       "      <td>JS-SE</td>\n",
       "      <td>XE-5638S</td>\n",
       "    </tr>\n",
       "    <tr>\n",
       "      <th>0</th>\n",
       "      <td>JS-SE</td>\n",
       "      <td>XE-5577J</td>\n",
       "    </tr>\n",
       "    <tr>\n",
       "      <th>0</th>\n",
       "      <td>JS-SE</td>\n",
       "      <td>XE-5629T</td>\n",
       "    </tr>\n",
       "  </tbody>\n",
       "</table>\n",
       "</div>"
      ],
      "text/plain": [
       "  route_type vehicle_id\n",
       "0      JS-SE   XE-5638S\n",
       "0      JS-SE   XE-5577J\n",
       "0      JS-SE   XE-5629T"
      ]
     },
     "execution_count": 17,
     "metadata": {},
     "output_type": "execute_result"
    }
   ],
   "source": [
    "route_vehic_assign"
   ]
  },
  {
   "cell_type": "code",
   "execution_count": 18,
   "metadata": {},
   "outputs": [
    {
     "ename": "SyntaxError",
     "evalue": "EOL while scanning string literal (<ipython-input-18-39a1d34b5381>, line 5)",
     "output_type": "error",
     "traceback": [
      "\u001b[0;36m  File \u001b[0;32m\"<ipython-input-18-39a1d34b5381>\"\u001b[0;36m, line \u001b[0;32m5\u001b[0m\n\u001b[0;31m    '2020-10-02 XE 5577J': '-01:00\u001b[0m\n\u001b[0m                                  ^\u001b[0m\n\u001b[0;31mSyntaxError\u001b[0m\u001b[0;31m:\u001b[0m EOL while scanning string literal\n"
     ]
    }
   ],
   "source": [
    "{\n",
    "    '2020-10-01 XE-5577J': '-02:00',\n",
    "    '2020-10-01 XE-5629T': '-02:00',\n",
    "    '2020-10-01 XE 5638S': '-02:00',\n",
    "    '2020-10-02 XE 5577J': '-02:00',\n",
    "}"
   ]
  },
  {
   "cell_type": "markdown",
   "metadata": {},
   "source": [
    "# Summary\n",
    "\n",
    "Visual detection is not the way of find time shifts.\n",
    "Takes extremely much time."
   ]
  },
  {
   "cell_type": "code",
   "execution_count": null,
   "metadata": {},
   "outputs": [],
   "source": []
  },
  {
   "cell_type": "code",
   "execution_count": null,
   "metadata": {},
   "outputs": [],
   "source": []
  }
 ],
 "metadata": {
  "extensions": {
   "jupyter_dashboards": {
    "activeView": "default_view",
    "version": 1,
    "views": {
     "default_view": {
      "cellMargin": 10,
      "defaultCellHeight": 40,
      "maxColumns": 12,
      "name": "active_view",
      "type": "grid"
     }
    }
   }
  },
  "kernelspec": {
   "display_name": "Python 3",
   "language": "python",
   "name": "python3"
  },
  "language_info": {
   "codemirror_mode": {
    "name": "ipython",
    "version": 3
   },
   "file_extension": ".py",
   "mimetype": "text/x-python",
   "name": "python",
   "nbconvert_exporter": "python",
   "pygments_lexer": "ipython3",
   "version": "3.8.2"
  }
 },
 "nbformat": 4,
 "nbformat_minor": 4
}
